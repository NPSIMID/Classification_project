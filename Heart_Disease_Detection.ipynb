{
 "cells": [
  {
   "cell_type": "markdown",
   "id": "834466b1",
   "metadata": {},
   "source": [
    "# Content\n",
    "## 1. Pregatirea datelor\n",
    "## 2. Selectarea algoritmului corespunzator problemei\n",
    "## 3. Implementarea algoritmului si realizarea predictiei\n",
    "## 4. Evaluarea modelului\n",
    "## 5. Imbunatatirea modelului\n",
    "## 6. Salvarea si incarcarea modelului\n",
    "## 7. Combinarea tuturor etapelor\n"
   ]
  },
  {
   "cell_type": "markdown",
   "id": "9474f9af",
   "metadata": {},
   "source": [
    "# 0. Importul bibliotecilor"
   ]
  },
  {
   "cell_type": "code",
   "execution_count": 245,
   "id": "c24df6eb",
   "metadata": {},
   "outputs": [],
   "source": [
    "import pandas as pd\n",
    "import numpy as np\n",
    "import matplotlib.pyplot as plt\n",
    "import seaborn as sns\n",
    "%matplotlib inline"
   ]
  },
  {
   "cell_type": "markdown",
   "id": "ec2f3116",
   "metadata": {},
   "source": [
    "# 1. Pregatirea datelor"
   ]
  },
  {
   "cell_type": "markdown",
   "id": "22d99274",
   "metadata": {},
   "source": [
    "Content\n",
    "1. Importul datelor\n",
    "2. Divizarea datelor in date feature si date labels (X si y)\n",
    "3. Completarea sau excluderea datelor lipsa\n",
    "4. Conversia valorilor non-numetice in numerice (feature encoding)"
   ]
  },
  {
   "cell_type": "code",
   "execution_count": 169,
   "id": "5756b9b2",
   "metadata": {},
   "outputs": [],
   "source": [
    "# importul datelor\n",
    "heart_disease=pd.read_csv('heart-disease.csv')"
   ]
  },
  {
   "cell_type": "code",
   "execution_count": 170,
   "id": "f29ed9e5",
   "metadata": {
    "scrolled": true
   },
   "outputs": [
    {
     "data": {
      "text/html": [
       "<div>\n",
       "<style scoped>\n",
       "    .dataframe tbody tr th:only-of-type {\n",
       "        vertical-align: middle;\n",
       "    }\n",
       "\n",
       "    .dataframe tbody tr th {\n",
       "        vertical-align: top;\n",
       "    }\n",
       "\n",
       "    .dataframe thead th {\n",
       "        text-align: right;\n",
       "    }\n",
       "</style>\n",
       "<table border=\"1\" class=\"dataframe\">\n",
       "  <thead>\n",
       "    <tr style=\"text-align: right;\">\n",
       "      <th></th>\n",
       "      <th>age</th>\n",
       "      <th>sex</th>\n",
       "      <th>cp</th>\n",
       "      <th>trestbps</th>\n",
       "      <th>chol</th>\n",
       "      <th>fbs</th>\n",
       "      <th>restecg</th>\n",
       "      <th>thalach</th>\n",
       "      <th>exang</th>\n",
       "      <th>oldpeak</th>\n",
       "      <th>slope</th>\n",
       "      <th>ca</th>\n",
       "      <th>thal</th>\n",
       "      <th>target</th>\n",
       "    </tr>\n",
       "  </thead>\n",
       "  <tbody>\n",
       "    <tr>\n",
       "      <th>0</th>\n",
       "      <td>63</td>\n",
       "      <td>1</td>\n",
       "      <td>3</td>\n",
       "      <td>145</td>\n",
       "      <td>233</td>\n",
       "      <td>1</td>\n",
       "      <td>0</td>\n",
       "      <td>150</td>\n",
       "      <td>0</td>\n",
       "      <td>2.3</td>\n",
       "      <td>0</td>\n",
       "      <td>0</td>\n",
       "      <td>1</td>\n",
       "      <td>1</td>\n",
       "    </tr>\n",
       "    <tr>\n",
       "      <th>1</th>\n",
       "      <td>37</td>\n",
       "      <td>1</td>\n",
       "      <td>2</td>\n",
       "      <td>130</td>\n",
       "      <td>250</td>\n",
       "      <td>0</td>\n",
       "      <td>1</td>\n",
       "      <td>187</td>\n",
       "      <td>0</td>\n",
       "      <td>3.5</td>\n",
       "      <td>0</td>\n",
       "      <td>0</td>\n",
       "      <td>2</td>\n",
       "      <td>1</td>\n",
       "    </tr>\n",
       "    <tr>\n",
       "      <th>2</th>\n",
       "      <td>41</td>\n",
       "      <td>0</td>\n",
       "      <td>1</td>\n",
       "      <td>130</td>\n",
       "      <td>204</td>\n",
       "      <td>0</td>\n",
       "      <td>0</td>\n",
       "      <td>172</td>\n",
       "      <td>0</td>\n",
       "      <td>1.4</td>\n",
       "      <td>2</td>\n",
       "      <td>0</td>\n",
       "      <td>2</td>\n",
       "      <td>1</td>\n",
       "    </tr>\n",
       "    <tr>\n",
       "      <th>3</th>\n",
       "      <td>56</td>\n",
       "      <td>1</td>\n",
       "      <td>1</td>\n",
       "      <td>120</td>\n",
       "      <td>236</td>\n",
       "      <td>0</td>\n",
       "      <td>1</td>\n",
       "      <td>178</td>\n",
       "      <td>0</td>\n",
       "      <td>0.8</td>\n",
       "      <td>2</td>\n",
       "      <td>0</td>\n",
       "      <td>2</td>\n",
       "      <td>1</td>\n",
       "    </tr>\n",
       "    <tr>\n",
       "      <th>4</th>\n",
       "      <td>57</td>\n",
       "      <td>0</td>\n",
       "      <td>0</td>\n",
       "      <td>120</td>\n",
       "      <td>354</td>\n",
       "      <td>0</td>\n",
       "      <td>1</td>\n",
       "      <td>163</td>\n",
       "      <td>1</td>\n",
       "      <td>0.6</td>\n",
       "      <td>2</td>\n",
       "      <td>0</td>\n",
       "      <td>2</td>\n",
       "      <td>1</td>\n",
       "    </tr>\n",
       "    <tr>\n",
       "      <th>5</th>\n",
       "      <td>57</td>\n",
       "      <td>1</td>\n",
       "      <td>0</td>\n",
       "      <td>140</td>\n",
       "      <td>192</td>\n",
       "      <td>0</td>\n",
       "      <td>1</td>\n",
       "      <td>148</td>\n",
       "      <td>0</td>\n",
       "      <td>0.4</td>\n",
       "      <td>1</td>\n",
       "      <td>0</td>\n",
       "      <td>1</td>\n",
       "      <td>1</td>\n",
       "    </tr>\n",
       "    <tr>\n",
       "      <th>6</th>\n",
       "      <td>56</td>\n",
       "      <td>0</td>\n",
       "      <td>1</td>\n",
       "      <td>140</td>\n",
       "      <td>294</td>\n",
       "      <td>0</td>\n",
       "      <td>0</td>\n",
       "      <td>153</td>\n",
       "      <td>0</td>\n",
       "      <td>1.3</td>\n",
       "      <td>1</td>\n",
       "      <td>0</td>\n",
       "      <td>2</td>\n",
       "      <td>1</td>\n",
       "    </tr>\n",
       "    <tr>\n",
       "      <th>7</th>\n",
       "      <td>44</td>\n",
       "      <td>1</td>\n",
       "      <td>1</td>\n",
       "      <td>120</td>\n",
       "      <td>263</td>\n",
       "      <td>0</td>\n",
       "      <td>1</td>\n",
       "      <td>173</td>\n",
       "      <td>0</td>\n",
       "      <td>0.0</td>\n",
       "      <td>2</td>\n",
       "      <td>0</td>\n",
       "      <td>3</td>\n",
       "      <td>1</td>\n",
       "    </tr>\n",
       "    <tr>\n",
       "      <th>8</th>\n",
       "      <td>52</td>\n",
       "      <td>1</td>\n",
       "      <td>2</td>\n",
       "      <td>172</td>\n",
       "      <td>199</td>\n",
       "      <td>1</td>\n",
       "      <td>1</td>\n",
       "      <td>162</td>\n",
       "      <td>0</td>\n",
       "      <td>0.5</td>\n",
       "      <td>2</td>\n",
       "      <td>0</td>\n",
       "      <td>3</td>\n",
       "      <td>1</td>\n",
       "    </tr>\n",
       "    <tr>\n",
       "      <th>9</th>\n",
       "      <td>57</td>\n",
       "      <td>1</td>\n",
       "      <td>2</td>\n",
       "      <td>150</td>\n",
       "      <td>168</td>\n",
       "      <td>0</td>\n",
       "      <td>1</td>\n",
       "      <td>174</td>\n",
       "      <td>0</td>\n",
       "      <td>1.6</td>\n",
       "      <td>2</td>\n",
       "      <td>0</td>\n",
       "      <td>2</td>\n",
       "      <td>1</td>\n",
       "    </tr>\n",
       "  </tbody>\n",
       "</table>\n",
       "</div>"
      ],
      "text/plain": [
       "   age  sex  cp  trestbps  chol  fbs  restecg  thalach  exang  oldpeak  slope  \\\n",
       "0   63    1   3       145   233    1        0      150      0      2.3      0   \n",
       "1   37    1   2       130   250    0        1      187      0      3.5      0   \n",
       "2   41    0   1       130   204    0        0      172      0      1.4      2   \n",
       "3   56    1   1       120   236    0        1      178      0      0.8      2   \n",
       "4   57    0   0       120   354    0        1      163      1      0.6      2   \n",
       "5   57    1   0       140   192    0        1      148      0      0.4      1   \n",
       "6   56    0   1       140   294    0        0      153      0      1.3      1   \n",
       "7   44    1   1       120   263    0        1      173      0      0.0      2   \n",
       "8   52    1   2       172   199    1        1      162      0      0.5      2   \n",
       "9   57    1   2       150   168    0        1      174      0      1.6      2   \n",
       "\n",
       "   ca  thal  target  \n",
       "0   0     1       1  \n",
       "1   0     2       1  \n",
       "2   0     2       1  \n",
       "3   0     2       1  \n",
       "4   0     2       1  \n",
       "5   0     1       1  \n",
       "6   0     2       1  \n",
       "7   0     3       1  \n",
       "8   0     3       1  \n",
       "9   0     2       1  "
      ]
     },
     "execution_count": 170,
     "metadata": {},
     "output_type": "execute_result"
    }
   ],
   "source": [
    "heart_disease.head(10)"
   ]
  },
  {
   "cell_type": "code",
   "execution_count": 171,
   "id": "bc827ff8",
   "metadata": {},
   "outputs": [
    {
     "data": {
      "text/plain": [
       "0"
      ]
     },
     "execution_count": 171,
     "metadata": {},
     "output_type": "execute_result"
    }
   ],
   "source": [
    "# Verificare datelor lipsa in coloana labels (target)\n",
    "heart_disease['target'].isna().sum()"
   ]
  },
  {
   "cell_type": "markdown",
   "id": "50919d04",
   "metadata": {},
   "source": [
    "Deoarece nu exita nici o lipsa in coloana label se continu cu intregul set de date. Daca ar fi existat astfel de lipsuri, randul corespunzator ar fi trebuit exclus din setul de date"
   ]
  },
  {
   "cell_type": "code",
   "execution_count": 172,
   "id": "c9b72aaa",
   "metadata": {},
   "outputs": [
    {
     "data": {
      "text/html": [
       "<div>\n",
       "<style scoped>\n",
       "    .dataframe tbody tr th:only-of-type {\n",
       "        vertical-align: middle;\n",
       "    }\n",
       "\n",
       "    .dataframe tbody tr th {\n",
       "        vertical-align: top;\n",
       "    }\n",
       "\n",
       "    .dataframe thead th {\n",
       "        text-align: right;\n",
       "    }\n",
       "</style>\n",
       "<table border=\"1\" class=\"dataframe\">\n",
       "  <thead>\n",
       "    <tr style=\"text-align: right;\">\n",
       "      <th></th>\n",
       "      <th>age</th>\n",
       "      <th>sex</th>\n",
       "      <th>cp</th>\n",
       "      <th>trestbps</th>\n",
       "      <th>chol</th>\n",
       "      <th>fbs</th>\n",
       "      <th>restecg</th>\n",
       "      <th>thalach</th>\n",
       "      <th>exang</th>\n",
       "      <th>oldpeak</th>\n",
       "      <th>slope</th>\n",
       "      <th>ca</th>\n",
       "      <th>thal</th>\n",
       "    </tr>\n",
       "  </thead>\n",
       "  <tbody>\n",
       "    <tr>\n",
       "      <th>0</th>\n",
       "      <td>63</td>\n",
       "      <td>1</td>\n",
       "      <td>3</td>\n",
       "      <td>145</td>\n",
       "      <td>233</td>\n",
       "      <td>1</td>\n",
       "      <td>0</td>\n",
       "      <td>150</td>\n",
       "      <td>0</td>\n",
       "      <td>2.3</td>\n",
       "      <td>0</td>\n",
       "      <td>0</td>\n",
       "      <td>1</td>\n",
       "    </tr>\n",
       "    <tr>\n",
       "      <th>1</th>\n",
       "      <td>37</td>\n",
       "      <td>1</td>\n",
       "      <td>2</td>\n",
       "      <td>130</td>\n",
       "      <td>250</td>\n",
       "      <td>0</td>\n",
       "      <td>1</td>\n",
       "      <td>187</td>\n",
       "      <td>0</td>\n",
       "      <td>3.5</td>\n",
       "      <td>0</td>\n",
       "      <td>0</td>\n",
       "      <td>2</td>\n",
       "    </tr>\n",
       "    <tr>\n",
       "      <th>2</th>\n",
       "      <td>41</td>\n",
       "      <td>0</td>\n",
       "      <td>1</td>\n",
       "      <td>130</td>\n",
       "      <td>204</td>\n",
       "      <td>0</td>\n",
       "      <td>0</td>\n",
       "      <td>172</td>\n",
       "      <td>0</td>\n",
       "      <td>1.4</td>\n",
       "      <td>2</td>\n",
       "      <td>0</td>\n",
       "      <td>2</td>\n",
       "    </tr>\n",
       "    <tr>\n",
       "      <th>3</th>\n",
       "      <td>56</td>\n",
       "      <td>1</td>\n",
       "      <td>1</td>\n",
       "      <td>120</td>\n",
       "      <td>236</td>\n",
       "      <td>0</td>\n",
       "      <td>1</td>\n",
       "      <td>178</td>\n",
       "      <td>0</td>\n",
       "      <td>0.8</td>\n",
       "      <td>2</td>\n",
       "      <td>0</td>\n",
       "      <td>2</td>\n",
       "    </tr>\n",
       "    <tr>\n",
       "      <th>4</th>\n",
       "      <td>57</td>\n",
       "      <td>0</td>\n",
       "      <td>0</td>\n",
       "      <td>120</td>\n",
       "      <td>354</td>\n",
       "      <td>0</td>\n",
       "      <td>1</td>\n",
       "      <td>163</td>\n",
       "      <td>1</td>\n",
       "      <td>0.6</td>\n",
       "      <td>2</td>\n",
       "      <td>0</td>\n",
       "      <td>2</td>\n",
       "    </tr>\n",
       "  </tbody>\n",
       "</table>\n",
       "</div>"
      ],
      "text/plain": [
       "   age  sex  cp  trestbps  chol  fbs  restecg  thalach  exang  oldpeak  slope  \\\n",
       "0   63    1   3       145   233    1        0      150      0      2.3      0   \n",
       "1   37    1   2       130   250    0        1      187      0      3.5      0   \n",
       "2   41    0   1       130   204    0        0      172      0      1.4      2   \n",
       "3   56    1   1       120   236    0        1      178      0      0.8      2   \n",
       "4   57    0   0       120   354    0        1      163      1      0.6      2   \n",
       "\n",
       "   ca  thal  \n",
       "0   0     1  \n",
       "1   0     2  \n",
       "2   0     2  \n",
       "3   0     2  \n",
       "4   0     2  "
      ]
     },
     "execution_count": 172,
     "metadata": {},
     "output_type": "execute_result"
    }
   ],
   "source": [
    "# Divizarea datelor (coloanelor) in date feature X (caracteristici) si date labels y (rezultat)\n",
    "np.random.seed(9)\n",
    "X=heart_disease.drop('target', axis=1)\n",
    "X.head()"
   ]
  },
  {
   "cell_type": "code",
   "execution_count": 173,
   "id": "bd3b4fdc",
   "metadata": {},
   "outputs": [
    {
     "data": {
      "text/plain": [
       "0    1\n",
       "1    1\n",
       "2    1\n",
       "3    1\n",
       "4    1\n",
       "Name: target, dtype: int64"
      ]
     },
     "execution_count": 173,
     "metadata": {},
     "output_type": "execute_result"
    }
   ],
   "source": [
    "y=heart_disease['target']\n",
    "y.head()"
   ]
  },
  {
   "cell_type": "code",
   "execution_count": 174,
   "id": "9d7a225b",
   "metadata": {},
   "outputs": [],
   "source": [
    "# Divizarea datelor in setul training si setul test\n",
    "np.random.seed(9)\n",
    "from sklearn.model_selection import train_test_split\n",
    "X_train, X_test, y_train, y_test = train_test_split(X, \n",
    "                                                    y, \n",
    "                                                    test_size = 0.2)"
   ]
  },
  {
   "cell_type": "code",
   "execution_count": 175,
   "id": "df7d1b90",
   "metadata": {},
   "outputs": [
    {
     "data": {
      "text/plain": [
       "((242, 13), (61, 13), (242,), (61,))"
      ]
     },
     "execution_count": 175,
     "metadata": {},
     "output_type": "execute_result"
    }
   ],
   "source": [
    "# Verificarea dimensiunilor seturilor de training si de test\n",
    "X_train.shape, X_test.shape, y_train.shape, y_test.shape"
   ]
  },
  {
   "cell_type": "code",
   "execution_count": 176,
   "id": "c2bdd33f",
   "metadata": {},
   "outputs": [
    {
     "data": {
      "text/plain": [
       "age         0\n",
       "sex         0\n",
       "cp          0\n",
       "trestbps    0\n",
       "chol        0\n",
       "fbs         0\n",
       "restecg     0\n",
       "thalach     0\n",
       "exang       0\n",
       "oldpeak     0\n",
       "slope       0\n",
       "ca          0\n",
       "thal        0\n",
       "dtype: int64"
      ]
     },
     "execution_count": 176,
     "metadata": {},
     "output_type": "execute_result"
    }
   ],
   "source": [
    "# Verificarea prezentei datelor lipsa seturile feature de training (in colona label s-a verificat mai sus)\n",
    "X_train.isna().sum()"
   ]
  },
  {
   "cell_type": "code",
   "execution_count": 177,
   "id": "96c894cb",
   "metadata": {},
   "outputs": [
    {
     "data": {
      "text/plain": [
       "age         0\n",
       "sex         0\n",
       "cp          0\n",
       "trestbps    0\n",
       "chol        0\n",
       "fbs         0\n",
       "restecg     0\n",
       "thalach     0\n",
       "exang       0\n",
       "oldpeak     0\n",
       "slope       0\n",
       "ca          0\n",
       "thal        0\n",
       "dtype: int64"
      ]
     },
     "execution_count": 177,
     "metadata": {},
     "output_type": "execute_result"
    }
   ],
   "source": [
    "# Verificarea prezentei datelor lipsa seturile feature de test (in colona label s-a verificat mai sus)\n",
    "X_test.isna().sum()"
   ]
  },
  {
   "cell_type": "markdown",
   "id": "06011feb",
   "metadata": {},
   "source": [
    "Nu exista date lipsa, deci nu este necesara procedura de completare a datelor lipsa "
   ]
  },
  {
   "cell_type": "code",
   "execution_count": 178,
   "id": "51f64f88",
   "metadata": {},
   "outputs": [
    {
     "data": {
      "text/plain": [
       "age           int64\n",
       "sex           int64\n",
       "cp            int64\n",
       "trestbps      int64\n",
       "chol          int64\n",
       "fbs           int64\n",
       "restecg       int64\n",
       "thalach       int64\n",
       "exang         int64\n",
       "oldpeak     float64\n",
       "slope         int64\n",
       "ca            int64\n",
       "thal          int64\n",
       "target        int64\n",
       "dtype: object"
      ]
     },
     "execution_count": 178,
     "metadata": {},
     "output_type": "execute_result"
    }
   ],
   "source": [
    "# Verificare tipurilor de date in fiecare coloana\n",
    "heart_disease.dtypes"
   ]
  },
  {
   "cell_type": "markdown",
   "id": "11e2edd1",
   "metadata": {},
   "source": [
    "Toate datele sunt de tip numeric deci nu este necesara procedura de conversie a datelor non-numerice in numerice"
   ]
  },
  {
   "cell_type": "markdown",
   "id": "259e0604",
   "metadata": {},
   "source": [
    "# 2a. Selectarea algoritmului corespunzator problemei"
   ]
  },
  {
   "cell_type": "markdown",
   "id": "10c7cb02",
   "metadata": {},
   "source": [
    "Sarcina problemei este de a determina daca o persoana este bolnava de inima sau nu, deci problema face parte din categoria problemelor de clasificare si prin urmare se va selecta un algoritm (estimator) de clasificare"
   ]
  },
  {
   "cell_type": "markdown",
   "id": "aa936a18",
   "metadata": {},
   "source": [
    "Pentru selectarea algoritmului/estimator-ului corespunzator se va parcurge harta: https://scikit-learn.org/stable/tutorial/machine_learning_map/index.html"
   ]
  },
  {
   "cell_type": "markdown",
   "id": "099e9c9a",
   "metadata": {},
   "source": [
    "Conform hartii scikit-learn se alege algoritmul LinearSVC"
   ]
  },
  {
   "cell_type": "code",
   "execution_count": 179,
   "id": "378fd522",
   "metadata": {},
   "outputs": [],
   "source": [
    "#Importul estimatorului LinearSVC\n",
    "from sklearn.svm import LinearSVC"
   ]
  },
  {
   "cell_type": "code",
   "execution_count": 180,
   "id": "175ac338",
   "metadata": {},
   "outputs": [],
   "source": [
    "# Instantierea algoritmului LinearSVC\n",
    "clf=LinearSVC()"
   ]
  },
  {
   "cell_type": "markdown",
   "id": "976145a3",
   "metadata": {},
   "source": [
    "# 3a. Implementarea algoritmului"
   ]
  },
  {
   "cell_type": "code",
   "execution_count": 181,
   "id": "8673fa21",
   "metadata": {},
   "outputs": [
    {
     "name": "stderr",
     "output_type": "stream",
     "text": [
      "E:\\Machine_learning\\Machine_learning_projects\\Classification_project\\env\\lib\\site-packages\\sklearn\\svm\\_base.py:985: ConvergenceWarning: Liblinear failed to converge, increase the number of iterations.\n",
      "  warnings.warn(\"Liblinear failed to converge, increase \"\n"
     ]
    },
    {
     "data": {
      "text/plain": [
       "LinearSVC()"
      ]
     },
     "execution_count": 181,
     "metadata": {},
     "output_type": "execute_result"
    }
   ],
   "source": [
    "#Implementarea algoritmului LinearSVC pe datele de training\n",
    "clf.fit(X_train, y_train)"
   ]
  },
  {
   "cell_type": "markdown",
   "id": "12e2b084",
   "metadata": {},
   "source": [
    "# 4a. Evaluarea modelului"
   ]
  },
  {
   "cell_type": "code",
   "execution_count": 182,
   "id": "38521b19",
   "metadata": {},
   "outputs": [
    {
     "data": {
      "text/plain": [
       "0.47540983606557374"
      ]
     },
     "execution_count": 182,
     "metadata": {},
     "output_type": "execute_result"
    }
   ],
   "source": [
    "# Evaluarea modelului pe datele de test\n",
    "clf.score(X_test, y_test)"
   ]
  },
  {
   "cell_type": "markdown",
   "id": "4cb6db97",
   "metadata": {},
   "source": [
    "Modelul elaborat pe baza datelor de training implementand algoritmul LinearSVC are o precizie de 47% la evaluarea sa pe datele de test.\n",
    "In incercarea de a creste aceasta precizie se va incerca utiliza altul algoritm conform hartii scikit-learn"
   ]
  },
  {
   "cell_type": "markdown",
   "id": "b31b1711",
   "metadata": {},
   "source": [
    "# 2b. Selectarea altui algoritmului"
   ]
  },
  {
   "cell_type": "markdown",
   "id": "7e966e7e",
   "metadata": {},
   "source": [
    "Conform hartii scikit-learn daca nu suntem multumiti cu precizia lui modelului pe baza algoritmului LinearSVC urmatorul algorit ce poate fi utilizat este KNeighborsClassifier"
   ]
  },
  {
   "cell_type": "code",
   "execution_count": 185,
   "id": "23442467",
   "metadata": {},
   "outputs": [],
   "source": [
    "#Importul estimatorului KNeighborsClassifier\n",
    "from sklearn.neighbors import KNeighborsClassifier"
   ]
  },
  {
   "cell_type": "code",
   "execution_count": 186,
   "id": "d169674a",
   "metadata": {},
   "outputs": [],
   "source": [
    "# Instantierea algoritmului KNeighborsClassifier\n",
    "clf=KNeighborsClassifier()"
   ]
  },
  {
   "cell_type": "markdown",
   "id": "b74d796c",
   "metadata": {},
   "source": [
    "# 3b. Implementarea algoritmului"
   ]
  },
  {
   "cell_type": "code",
   "execution_count": 187,
   "id": "c200b419",
   "metadata": {},
   "outputs": [
    {
     "data": {
      "text/plain": [
       "KNeighborsClassifier()"
      ]
     },
     "execution_count": 187,
     "metadata": {},
     "output_type": "execute_result"
    }
   ],
   "source": [
    "#Implementarea algoritmului KNeighborsClassifier pe datele de training\n",
    "clf.fit(X_train, y_train)"
   ]
  },
  {
   "cell_type": "markdown",
   "id": "8b89a5cb",
   "metadata": {},
   "source": [
    "# 4b. Evaluarea modelului"
   ]
  },
  {
   "cell_type": "code",
   "execution_count": 188,
   "id": "2889dd69",
   "metadata": {},
   "outputs": [
    {
     "data": {
      "text/plain": [
       "0.7049180327868853"
      ]
     },
     "execution_count": 188,
     "metadata": {},
     "output_type": "execute_result"
    }
   ],
   "source": [
    "# Evaluarea modelului pe datele de test\n",
    "clf.score(X_test, y_test)"
   ]
  },
  {
   "cell_type": "markdown",
   "id": "dace1723",
   "metadata": {},
   "source": [
    "Modelul elaborat pe baza datelor de training implementand algoritmul KNeighborsClassifier are o precizie de 70% la evaluarea sa pe datele de test.\n",
    "Conform hartii scikit-learn daca nu suntem multumiti de preciziile obtinute se mai incerca de a utiliza si alt algoritm "
   ]
  },
  {
   "cell_type": "markdown",
   "id": "d0592763",
   "metadata": {},
   "source": [
    "# 2c. Selectarea altui algoritmului"
   ]
  },
  {
   "cell_type": "markdown",
   "id": "cc0ee49e",
   "metadata": {},
   "source": [
    "Conform hartii scikit-learn daca nu suntem multumiti cu precizia lui modelului pe baza algoritmului KNeighborsClassifier urmatorul algoritm ce poate fi utilizat este unui din categoria Ensemble Classifier care de exemplu poate fi RandomForestClassifier"
   ]
  },
  {
   "cell_type": "code",
   "execution_count": 189,
   "id": "9385f266",
   "metadata": {},
   "outputs": [],
   "source": [
    "#Importul estimatorului RandomForestClassifier\n",
    "from sklearn.ensemble import RandomForestClassifier"
   ]
  },
  {
   "cell_type": "code",
   "execution_count": 207,
   "id": "800dae06",
   "metadata": {},
   "outputs": [],
   "source": [
    "# Instantierea algoritmului RandomForestClassifier\n",
    "np.random.seed(9)\n",
    "clf = RandomForestClassifier()"
   ]
  },
  {
   "cell_type": "markdown",
   "id": "0c54a4f4",
   "metadata": {},
   "source": [
    "# 3c. Implementarea algoritmului"
   ]
  },
  {
   "cell_type": "code",
   "execution_count": 208,
   "id": "6fabc464",
   "metadata": {},
   "outputs": [
    {
     "data": {
      "text/plain": [
       "RandomForestClassifier()"
      ]
     },
     "execution_count": 208,
     "metadata": {},
     "output_type": "execute_result"
    }
   ],
   "source": [
    "#Implementarea algoritmului RandomForestClassifier pe datele de training\n",
    "clf.fit(X_train, y_train)"
   ]
  },
  {
   "cell_type": "markdown",
   "id": "98fce822",
   "metadata": {},
   "source": [
    "# 4c. Evaluarea modelului"
   ]
  },
  {
   "cell_type": "code",
   "execution_count": 209,
   "id": "d27502eb",
   "metadata": {},
   "outputs": [
    {
     "data": {
      "text/plain": [
       "0.7540983606557377"
      ]
     },
     "execution_count": 209,
     "metadata": {},
     "output_type": "execute_result"
    }
   ],
   "source": [
    "# Evaluarea modelului pe datele de test\n",
    "clf.score(X_test, y_test)"
   ]
  },
  {
   "cell_type": "markdown",
   "id": "23815fc4",
   "metadata": {},
   "source": [
    "Modelul elaborat pe baza datelor de training implementand algoritmul RandomForestClassifier are o precizie de 75% la evaluarea sa pe datele de test.\n",
    "Pentru a creste aceasta precizie se poate utilizat un alt algoritm din categoria Ensemble Classifier care de exemplu poate fi AdaBoostClassifier"
   ]
  },
  {
   "cell_type": "markdown",
   "id": "2e269540",
   "metadata": {},
   "source": [
    "# 2d. Selectarea altui algoritmului"
   ]
  },
  {
   "cell_type": "code",
   "execution_count": 210,
   "id": "0e48c73c",
   "metadata": {},
   "outputs": [],
   "source": [
    "#Importul estimatorului AdaBoostClassifier\n",
    "from sklearn.ensemble import AdaBoostClassifier"
   ]
  },
  {
   "cell_type": "code",
   "execution_count": 211,
   "id": "56d6adff",
   "metadata": {},
   "outputs": [],
   "source": [
    "# Instantierea algoritmului AdaBoostClassifier\n",
    "clf = AdaBoostClassifier()"
   ]
  },
  {
   "cell_type": "markdown",
   "id": "87763faa",
   "metadata": {},
   "source": [
    "# 3d. Implementarea algoritmului"
   ]
  },
  {
   "cell_type": "code",
   "execution_count": 212,
   "id": "674dc3cb",
   "metadata": {},
   "outputs": [
    {
     "data": {
      "text/plain": [
       "AdaBoostClassifier()"
      ]
     },
     "execution_count": 212,
     "metadata": {},
     "output_type": "execute_result"
    }
   ],
   "source": [
    "#Implementarea algoritmului AdaBoostClassifier pe datele de training\n",
    "clf.fit(X_train, y_train)"
   ]
  },
  {
   "cell_type": "markdown",
   "id": "33e321d9",
   "metadata": {},
   "source": [
    "# 4d. Evaluarea modelului"
   ]
  },
  {
   "cell_type": "code",
   "execution_count": 213,
   "id": "b306c507",
   "metadata": {},
   "outputs": [
    {
     "data": {
      "text/plain": [
       "0.819672131147541"
      ]
     },
     "execution_count": 213,
     "metadata": {},
     "output_type": "execute_result"
    }
   ],
   "source": [
    "# Evaluarea modelului pe datele de test\n",
    "clf.score(X_test, y_test)"
   ]
  },
  {
   "cell_type": "markdown",
   "id": "7bbbd097",
   "metadata": {},
   "source": [
    "Modelul elaborat pe baza datelor de training implementand algoritmul AdaBoostClassifier are o precizie de 82% la evaluarea sa pe datele de test, cea mai mare pina acum de aceea ne vor opri aici."
   ]
  },
  {
   "cell_type": "markdown",
   "id": "94b6cfb1",
   "metadata": {},
   "source": [
    "# 3*. Realizarea predictiei utilizand modelul elaborat"
   ]
  },
  {
   "cell_type": "markdown",
   "id": "df319f1a",
   "metadata": {},
   "source": [
    "## a) Metoda `predict()`"
   ]
  },
  {
   "cell_type": "code",
   "execution_count": 214,
   "id": "8781d9e1",
   "metadata": {},
   "outputs": [
    {
     "data": {
      "text/plain": [
       "array([1, 1, 1, 1, 0, 1, 1, 1, 1, 1, 0, 0, 0, 1, 1, 1, 1, 0, 0, 1, 1, 1,\n",
       "       0, 1, 0, 1, 1, 0, 1, 0, 0, 1, 0, 1, 0, 1, 1, 1, 1, 0, 0, 1, 1, 0,\n",
       "       1, 1, 1, 0, 1, 0, 1, 0, 1, 1, 0, 0, 0, 1, 1, 1, 1], dtype=int64)"
      ]
     },
     "execution_count": 214,
     "metadata": {},
     "output_type": "execute_result"
    }
   ],
   "source": [
    "# Realizarea predictie asupra datelor de test (valorile prezise)\n",
    "y_preds=clf.predict(X_test)\n",
    "y_preds"
   ]
  },
  {
   "cell_type": "code",
   "execution_count": 215,
   "id": "07c2062b",
   "metadata": {},
   "outputs": [
    {
     "data": {
      "text/plain": [
       "array([1, 1, 1, 1, 1, 1, 1, 1, 1, 0, 1, 1, 0, 1, 1, 0, 1, 0, 0, 1, 1, 0,\n",
       "       0, 1, 0, 1, 1, 0, 1, 1, 0, 1, 0, 1, 0, 1, 1, 1, 1, 1, 0, 1, 1, 0,\n",
       "       0, 1, 1, 0, 0, 0, 1, 0, 1, 1, 0, 0, 0, 1, 0, 1, 1], dtype=int64)"
      ]
     },
     "execution_count": 215,
     "metadata": {},
     "output_type": "execute_result"
    }
   ],
   "source": [
    "# Afisarea datelor label de test in acelasi format (valorile adevarate)\n",
    "np.array(y_test)"
   ]
  },
  {
   "cell_type": "code",
   "execution_count": 216,
   "id": "69bd737c",
   "metadata": {},
   "outputs": [
    {
     "data": {
      "text/plain": [
       "0.819672131147541"
      ]
     },
     "execution_count": 216,
     "metadata": {},
     "output_type": "execute_result"
    }
   ],
   "source": [
    "# Compararea valorilor prezise cu cele adevarate\n",
    "np.mean(y_preds==y_test)"
   ]
  },
  {
   "cell_type": "markdown",
   "id": "8079c31a",
   "metadata": {},
   "source": [
    "## b) Metoda `predict_proba()`"
   ]
  },
  {
   "cell_type": "code",
   "execution_count": 217,
   "id": "2323bc59",
   "metadata": {},
   "outputs": [
    {
     "data": {
      "text/plain": [
       "1    38\n",
       "0    23\n",
       "Name: target, dtype: int64"
      ]
     },
     "execution_count": 217,
     "metadata": {},
     "output_type": "execute_result"
    }
   ],
   "source": [
    "#Se verifica valorile posibile ale setul label de test y_test\n",
    "y_test.value_counts()"
   ]
  },
  {
   "cell_type": "markdown",
   "id": "fd5c9bba",
   "metadata": {},
   "source": [
    "Setul label contine doar 2 valori posibile 0 si 1. Modelul elaborat pentru fiecare valoare de test va pezice una dintre aceste valori"
   ]
  },
  {
   "cell_type": "code",
   "execution_count": 218,
   "id": "24a264eb",
   "metadata": {},
   "outputs": [
    {
     "data": {
      "text/plain": [
       "array([[0.47762637, 0.52237363],\n",
       "       [0.47584965, 0.52415035],\n",
       "       [0.49527495, 0.50472505],\n",
       "       [0.48349326, 0.51650674],\n",
       "       [0.51178949, 0.48821051],\n",
       "       [0.47650329, 0.52349671],\n",
       "       [0.46470756, 0.53529244],\n",
       "       [0.48418237, 0.51581763],\n",
       "       [0.46573881, 0.53426119],\n",
       "       [0.48733339, 0.51266661],\n",
       "       [0.7098402 , 0.2901598 ],\n",
       "       [0.52181646, 0.47818354],\n",
       "       [0.70891484, 0.29108516],\n",
       "       [0.47336685, 0.52663315],\n",
       "       [0.47278089, 0.52721911],\n",
       "       [0.47891123, 0.52108877],\n",
       "       [0.48579132, 0.51420868],\n",
       "       [0.53826741, 0.46173259],\n",
       "       [0.56844122, 0.43155878],\n",
       "       [0.48900173, 0.51099827],\n",
       "       [0.46706562, 0.53293438],\n",
       "       [0.49606154, 0.50393846],\n",
       "       [0.55258449, 0.44741551],\n",
       "       [0.46117321, 0.53882679],\n",
       "       [0.72558116, 0.27441884],\n",
       "       [0.48862231, 0.51137769],\n",
       "       [0.46816917, 0.53183083],\n",
       "       [0.53418222, 0.46581778],\n",
       "       [0.47031278, 0.52968722],\n",
       "       [0.50022705, 0.49977295],\n",
       "       [0.50040275, 0.49959725],\n",
       "       [0.47408   , 0.52592   ],\n",
       "       [0.55166574, 0.44833426],\n",
       "       [0.46579167, 0.53420833],\n",
       "       [0.5128306 , 0.4871694 ],\n",
       "       [0.49450218, 0.50549782],\n",
       "       [0.49333661, 0.50666339],\n",
       "       [0.46975483, 0.53024517],\n",
       "       [0.48024585, 0.51975415],\n",
       "       [0.5002073 , 0.4997927 ],\n",
       "       [0.52518062, 0.47481938],\n",
       "       [0.4522477 , 0.5477523 ],\n",
       "       [0.49781309, 0.50218691],\n",
       "       [0.5130005 , 0.4869995 ],\n",
       "       [0.4971249 , 0.5028751 ],\n",
       "       [0.4836805 , 0.5163195 ],\n",
       "       [0.48942908, 0.51057092],\n",
       "       [0.53683689, 0.46316311],\n",
       "       [0.48238151, 0.51761849],\n",
       "       [0.50127732, 0.49872268],\n",
       "       [0.48626898, 0.51373102],\n",
       "       [0.53195395, 0.46804605],\n",
       "       [0.45974725, 0.54025275],\n",
       "       [0.46912723, 0.53087277],\n",
       "       [0.51414575, 0.48585425],\n",
       "       [0.71261486, 0.28738514],\n",
       "       [0.5058674 , 0.4941326 ],\n",
       "       [0.4723619 , 0.5276381 ],\n",
       "       [0.4904506 , 0.5095494 ],\n",
       "       [0.45974725, 0.54025275],\n",
       "       [0.48144777, 0.51855223]])"
      ]
     },
     "execution_count": 218,
     "metadata": {},
     "output_type": "execute_result"
    }
   ],
   "source": [
    "# Determinarea probabilitatii de prezicere pentru fiecarea valoare\n",
    "np.random.seed(9)\n",
    "y_preds_prob=clf.predict_proba(X_test)\n",
    "y_preds_prob"
   ]
  },
  {
   "cell_type": "code",
   "execution_count": 219,
   "id": "608007aa",
   "metadata": {},
   "outputs": [
    {
     "data": {
      "text/plain": [
       "(array([1, 1, 1, 1, 0], dtype=int64),\n",
       " array([[0.47762637, 0.52237363],\n",
       "        [0.47584965, 0.52415035],\n",
       "        [0.49527495, 0.50472505],\n",
       "        [0.48349326, 0.51650674],\n",
       "        [0.51178949, 0.48821051]]))"
      ]
     },
     "execution_count": 219,
     "metadata": {},
     "output_type": "execute_result"
    }
   ],
   "source": [
    "# Compararea rezultatelor functiilor predict si predict proba\n",
    "y_preds[:5], y_preds_prob[:5]"
   ]
  },
  {
   "cell_type": "markdown",
   "id": "fa956261",
   "metadata": {},
   "source": [
    "Se observa ca probabilitatile de prezicere sunt foarte apropiate, iar valoarea prezisa este aceea care are probabilitatea peste 0.5. Functia predict_proba este forate utila atunci cand setul label are mai mult de 2 valri posibile.\n",
    "In continuare se va examina rezultatel predictie cu ambele metode pentru cazul implementarii algoritmului RandomForestClassifier"
   ]
  },
  {
   "cell_type": "code",
   "execution_count": 220,
   "id": "68d7c014",
   "metadata": {},
   "outputs": [
    {
     "data": {
      "text/plain": [
       "(array([1, 1, 0, 1, 0], dtype=int64),\n",
       " array([[0.07, 0.93],\n",
       "        [0.2 , 0.8 ],\n",
       "        [0.52, 0.48],\n",
       "        [0.33, 0.67],\n",
       "        [0.7 , 0.3 ]]))"
      ]
     },
     "execution_count": 220,
     "metadata": {},
     "output_type": "execute_result"
    }
   ],
   "source": [
    "#instantierea si implementarea algoritmului RandomForestClassifier\n",
    "\n",
    "np.random.seed(9)\n",
    "\n",
    "clf = RandomForestClassifier()\n",
    "clf.fit(X_train, y_train)\n",
    "\n",
    "# realizarea predictiei cu metoda predict()\n",
    "y_preds=clf.predict(X_test)\n",
    "\n",
    "# determinarea probabilitatii de predictie cu metoda predict_proba()\n",
    "y_preds_prob=clf.predict_proba(X_test)\n",
    "\n",
    "#Afisarea primelor rezultate\n",
    "y_preds[:5], y_preds_prob[:5] "
   ]
  },
  {
   "cell_type": "code",
   "execution_count": 221,
   "id": "eecabb0d",
   "metadata": {},
   "outputs": [
    {
     "data": {
      "text/plain": [
       "array([1, 1, 0, 1, 0, 1, 1, 1, 1, 1, 0, 0, 0, 1, 1, 1, 1, 0, 0, 1, 1, 0,\n",
       "       0, 1, 0, 0, 1, 0, 1, 0, 0, 1, 0, 1, 0, 1, 0, 1, 1, 0, 0, 1, 0, 0,\n",
       "       1, 0, 1, 0, 0, 1, 1, 0, 1, 1, 0, 0, 0, 1, 1, 1, 1], dtype=int64)"
      ]
     },
     "execution_count": 221,
     "metadata": {},
     "output_type": "execute_result"
    }
   ],
   "source": [
    "y_preds"
   ]
  },
  {
   "cell_type": "markdown",
   "id": "63238eda",
   "metadata": {},
   "source": [
    "# 4*. Evaluarea modelului"
   ]
  },
  {
   "cell_type": "markdown",
   "id": "dbd6cf62",
   "metadata": {},
   "source": [
    "## a) Evaluarea modelului cu metoda `score()` (evaluarea implicita)"
   ]
  },
  {
   "cell_type": "code",
   "execution_count": 222,
   "id": "3a7d3b6f",
   "metadata": {},
   "outputs": [
    {
     "data": {
      "text/plain": [
       "1.0"
      ]
     },
     "execution_count": 222,
     "metadata": {},
     "output_type": "execute_result"
    }
   ],
   "source": [
    "# Evaluarea pe baza datelor de training\n",
    "clf.score(X_train, y_train)"
   ]
  },
  {
   "cell_type": "code",
   "execution_count": 223,
   "id": "6435e01b",
   "metadata": {},
   "outputs": [
    {
     "data": {
      "text/plain": [
       "0.7540983606557377"
      ]
     },
     "execution_count": 223,
     "metadata": {},
     "output_type": "execute_result"
    }
   ],
   "source": [
    "# Evaluarea pe baza datelor de test\n",
    "clf.score(X_test, y_test)"
   ]
  },
  {
   "cell_type": "markdown",
   "id": "bf274943",
   "metadata": {},
   "source": [
    "## b) Evaluarea modelului utilizand `cross-validation` (cu parametru implicit - accuracy)"
   ]
  },
  {
   "cell_type": "code",
   "execution_count": 267,
   "id": "17c6f1ef",
   "metadata": {},
   "outputs": [],
   "source": [
    "# importul modulului cross-validation\n",
    "from sklearn.model_selection import cross_val_score"
   ]
  },
  {
   "cell_type": "code",
   "execution_count": 225,
   "id": "4323e107",
   "metadata": {},
   "outputs": [
    {
     "data": {
      "text/plain": [
       "array([0.81967213, 0.86885246, 0.81967213, 0.78333333, 0.78333333])"
      ]
     },
     "execution_count": 225,
     "metadata": {},
     "output_type": "execute_result"
    }
   ],
   "source": [
    "# realizarea evaluarii\n",
    "cross_val_score(clf, X, y, cv = 5)"
   ]
  },
  {
   "cell_type": "code",
   "execution_count": 226,
   "id": "97dd4160",
   "metadata": {},
   "outputs": [
    {
     "data": {
      "text/plain": [
       "(0.7540983606557377, 0.828087431693989)"
      ]
     },
     "execution_count": 226,
     "metadata": {},
     "output_type": "execute_result"
    }
   ],
   "source": [
    "# Valoarea medie a evaluarii cross-validation\n",
    "clf_cross_val_score = np.mean(cross_val_score(clf, X, y, cv = 5))\n",
    "\n",
    "# Evaluarea modelului prin metoda score\n",
    "clf_single_score = clf.score(X_test, y_test)\n",
    "\n",
    "# Afisarea comparativa\n",
    "clf_single_score, clf_cross_val_score \n"
   ]
  },
  {
   "cell_type": "code",
   "execution_count": 227,
   "id": "9ed69ba7",
   "metadata": {},
   "outputs": [
    {
     "name": "stdout",
     "output_type": "stream",
     "text": [
      "Parametrul `accuracy` obtinut la evaluarea cross-validation a modelului are valoarea 82.81%\n"
     ]
    }
   ],
   "source": [
    "# Afisarea parametrului accuracy (parametru implicit)\n",
    "print(f'Parametrul `accuracy` obtinut la evaluarea cross-validation a modelului are valoarea {(clf_cross_val_score)*100:.2f}%')"
   ]
  },
  {
   "cell_type": "markdown",
   "id": "bc68035b",
   "metadata": {},
   "source": [
    "## c) Evaluarea modelului utilizand parametrul `Area under the ROC (Receiver Operating Characteristic) (AUC)`"
   ]
  },
  {
   "cell_type": "markdown",
   "id": "11058bdc",
   "metadata": {},
   "source": [
    "Curbele ROC reprezinta o comparatie a ratei pozitive adevarate (tpr - true positive rate) a modelului si a ratei pozitive falsa (ftr - false positive rate) a acestuia.\n",
    "* pozitiv adevarat = modelul prezice 1 cand adevarul e 1\n",
    "* pozitiv fals = modelul prezice 1 cand adevarul este 0\n",
    "* negativ adevarat = modelul prezice 0 cand adevarul e 0\n",
    "* negativ fals = modelul prezice 0 cand adevarul este 1"
   ]
  },
  {
   "cell_type": "code",
   "execution_count": 228,
   "id": "acac3c8f",
   "metadata": {},
   "outputs": [],
   "source": [
    "# importul modulului roc_curse\n",
    "from sklearn.metrics import roc_curve"
   ]
  },
  {
   "cell_type": "code",
   "execution_count": 229,
   "id": "6d9662e9",
   "metadata": {},
   "outputs": [
    {
     "data": {
      "text/plain": [
       "array([[0.07, 0.93],\n",
       "       [0.2 , 0.8 ],\n",
       "       [0.52, 0.48],\n",
       "       [0.33, 0.67],\n",
       "       [0.7 , 0.3 ],\n",
       "       [0.25, 0.75],\n",
       "       [0.1 , 0.9 ],\n",
       "       [0.25, 0.75],\n",
       "       [0.12, 0.88],\n",
       "       [0.32, 0.68]])"
      ]
     },
     "execution_count": 229,
     "metadata": {},
     "output_type": "execute_result"
    }
   ],
   "source": [
    "# relizarea predictie cu probabilitate\n",
    "y_probs = clf.predict_proba(X_test)\n",
    "y_probs[:10]"
   ]
  },
  {
   "cell_type": "code",
   "execution_count": 230,
   "id": "9740cb93",
   "metadata": {},
   "outputs": [
    {
     "data": {
      "text/plain": [
       "array([0.93, 0.8 , 0.48, 0.67, 0.3 , 0.75, 0.9 , 0.75, 0.88, 0.68])"
      ]
     },
     "execution_count": 230,
     "metadata": {},
     "output_type": "execute_result"
    }
   ],
   "source": [
    "# selectarea doar a probabilitatilor aparitie 1 din y_probs\n",
    "y_probs_positive = y_probs[:,1]\n",
    "y_probs_positive[:10]"
   ]
  },
  {
   "cell_type": "code",
   "execution_count": 231,
   "id": "5225ac6f",
   "metadata": {},
   "outputs": [],
   "source": [
    "# calcularea fpr, tpr, thresholds\n",
    "fpr, tpr, thresholds = roc_curve(y_test, y_probs_positive)"
   ]
  },
  {
   "cell_type": "code",
   "execution_count": 232,
   "id": "316dee55",
   "metadata": {},
   "outputs": [
    {
     "data": {
      "text/plain": [
       "array([0.        , 0.        , 0.        , 0.        , 0.        ,\n",
       "       0.        , 0.        , 0.        , 0.        , 0.08695652,\n",
       "       0.08695652, 0.08695652, 0.08695652, 0.08695652, 0.13043478,\n",
       "       0.17391304, 0.2173913 , 0.2173913 , 0.30434783, 0.30434783,\n",
       "       0.39130435, 0.43478261, 0.43478261, 0.47826087, 0.47826087,\n",
       "       0.60869565, 0.69565217, 0.73913043, 0.86956522, 1.        ])"
      ]
     },
     "execution_count": 232,
     "metadata": {},
     "output_type": "execute_result"
    }
   ],
   "source": [
    "# Afisarea fpr\n",
    "fpr"
   ]
  },
  {
   "cell_type": "code",
   "execution_count": 233,
   "id": "60f47b09",
   "metadata": {},
   "outputs": [
    {
     "data": {
      "text/plain": [
       "array([0.        , 0.02631579, 0.05263158, 0.13157895, 0.18421053,\n",
       "       0.21052632, 0.26315789, 0.31578947, 0.36842105, 0.36842105,\n",
       "       0.44736842, 0.52631579, 0.57894737, 0.63157895, 0.63157895,\n",
       "       0.68421053, 0.68421053, 0.86842105, 0.86842105, 0.89473684,\n",
       "       0.89473684, 0.89473684, 0.92105263, 0.94736842, 1.        ,\n",
       "       1.        , 1.        , 1.        , 1.        , 1.        ])"
      ]
     },
     "execution_count": 233,
     "metadata": {},
     "output_type": "execute_result"
    }
   ],
   "source": [
    "# Afisarea tpr\n",
    "tpr"
   ]
  },
  {
   "cell_type": "code",
   "execution_count": 234,
   "id": "f5e76de8",
   "metadata": {},
   "outputs": [
    {
     "data": {
      "text/plain": [
       "array([1.99, 0.99, 0.98, 0.96, 0.95, 0.94, 0.93, 0.88, 0.87, 0.84, 0.8 ,\n",
       "       0.76, 0.75, 0.73, 0.68, 0.67, 0.64, 0.44, 0.39, 0.37, 0.36, 0.34,\n",
       "       0.32, 0.3 , 0.21, 0.09, 0.07, 0.06, 0.05, 0.  ])"
      ]
     },
     "execution_count": 234,
     "metadata": {},
     "output_type": "execute_result"
    }
   ],
   "source": [
    "# Afisarea thresholds\n",
    "thresholds"
   ]
  },
  {
   "cell_type": "code",
   "execution_count": 235,
   "id": "3660a7fe",
   "metadata": {},
   "outputs": [],
   "source": [
    "# crearea functiei de afisare a curbei ROC\n",
    "\n",
    "def plot_roc_curve(fpr, tpr):\n",
    "    \"\"\"\n",
    "    Afiseaza graficul dependentei ratei pozitive false (fpr) de rata pozitiva adevarata (tpr)\n",
    "    \"\"\"\n",
    "    plt.plot(fpr, tpr, color=\"blue\")\n",
    "    plt.xlabel(\"Rata pozitiva falsa (fpr)\")\n",
    "    plt.ylabel(\"Rata pozitiva adevarata (tpr)\")\n",
    "    plt.title('Curba ROC')\n",
    "    plt.show()"
   ]
  },
  {
   "cell_type": "code",
   "execution_count": 236,
   "id": "baf6506e",
   "metadata": {},
   "outputs": [
    {
     "data": {
      "image/png": "[encoded data removed]",
      "text/plain": [
       "<Figure size 432x288 with 1 Axes>"
      ]
     },
     "metadata": {
      "needs_background": "light"
     },
     "output_type": "display_data"
    }
   ],
   "source": [
    "# apelara functiei de constructie a graficului curbei ROC\n",
    "plot_roc_curve(fpr, tpr)"
   ]
  },
  {
   "cell_type": "code",
   "execution_count": 238,
   "id": "f99e2d3c",
   "metadata": {},
   "outputs": [
    {
     "data": {
      "text/plain": [
       "0.8724256292906178"
      ]
     },
     "execution_count": 238,
     "metadata": {},
     "output_type": "execute_result"
    }
   ],
   "source": [
    "# Determinarea ariei de sub curba ROC (AUC)\n",
    "from sklearn.metrics import roc_auc_score\n",
    "\n",
    "roc_auc_score(y_test, y_probs_positive)"
   ]
  },
  {
   "cell_type": "markdown",
   "id": "0fc7a309",
   "metadata": {},
   "source": [
    "Mai multe detalii despre ROC si AUC se pot gasi pe adresa:https://www.youtube.com/watch?v=4jRBRDbJemM&ab_channel=StatQuestwithJoshStarmer "
   ]
  },
  {
   "cell_type": "markdown",
   "id": "a513c61d",
   "metadata": {},
   "source": [
    "## d) Evaluarea modelului utilizand `Confusion matrix` "
   ]
  },
  {
   "cell_type": "code",
   "execution_count": 239,
   "id": "aad56ecd",
   "metadata": {},
   "outputs": [],
   "source": [
    "# importul modulului confusion_matrix\n",
    "from sklearn.metrics import confusion_matrix"
   ]
  },
  {
   "cell_type": "code",
   "execution_count": 246,
   "id": "77765830",
   "metadata": {},
   "outputs": [
    {
     "data": {
      "text/plain": [
       "array([[18,  5],\n",
       "       [10, 28]], dtype=int64)"
      ]
     },
     "execution_count": 246,
     "metadata": {},
     "output_type": "execute_result"
    }
   ],
   "source": [
    "# elaborarea confusion matrix\n",
    "conf_mat = confusion_matrix(y_test, y_preds)\n",
    "conf_mat "
   ]
  },
  {
   "cell_type": "code",
   "execution_count": 259,
   "id": "b3eb6785",
   "metadata": {},
   "outputs": [
    {
     "data": {
      "image/png": "[encoded data removed]",
      "text/plain": [
       "<Figure size 432x288 with 2 Axes>"
      ]
     },
     "metadata": {},
     "output_type": "display_data"
    }
   ],
   "source": [
    "# Vizualizarea confusion matrix utilizand plot_confusion_matrix\n",
    "from sklearn.metrics import plot_confusion_matrix\n",
    "\n",
    "plot_confusion_matrix(clf, X_test, y_test);"
   ]
  },
  {
   "cell_type": "code",
   "execution_count": 260,
   "id": "10c22d66",
   "metadata": {},
   "outputs": [
    {
     "data": {
      "text/html": [
       "<div>\n",
       "<style scoped>\n",
       "    .dataframe tbody tr th:only-of-type {\n",
       "        vertical-align: middle;\n",
       "    }\n",
       "\n",
       "    .dataframe tbody tr th {\n",
       "        vertical-align: top;\n",
       "    }\n",
       "\n",
       "    .dataframe thead th {\n",
       "        text-align: right;\n",
       "    }\n",
       "</style>\n",
       "<table border=\"1\" class=\"dataframe\">\n",
       "  <thead>\n",
       "    <tr style=\"text-align: right;\">\n",
       "      <th>Valori prezise</th>\n",
       "      <th>0</th>\n",
       "      <th>1</th>\n",
       "    </tr>\n",
       "    <tr>\n",
       "      <th>Valori adevarate</th>\n",
       "      <th></th>\n",
       "      <th></th>\n",
       "    </tr>\n",
       "  </thead>\n",
       "  <tbody>\n",
       "    <tr>\n",
       "      <th>0</th>\n",
       "      <td>18</td>\n",
       "      <td>5</td>\n",
       "    </tr>\n",
       "    <tr>\n",
       "      <th>1</th>\n",
       "      <td>10</td>\n",
       "      <td>28</td>\n",
       "    </tr>\n",
       "  </tbody>\n",
       "</table>\n",
       "</div>"
      ],
      "text/plain": [
       "Valori prezise     0   1\n",
       "Valori adevarate        \n",
       "0                 18   5\n",
       "1                 10  28"
      ]
     },
     "execution_count": 260,
     "metadata": {},
     "output_type": "execute_result"
    }
   ],
   "source": [
    "# Vizualizarea confusion matrix utilizand pd.crossstab()\n",
    "pd.crosstab(y_test,\n",
    "            y_preds,\n",
    "            rownames=['Valori adevarate'],\n",
    "            colnames=['Valori prezise'])"
   ]
  },
  {
   "cell_type": "code",
   "execution_count": 261,
   "id": "fe6b8ac3",
   "metadata": {},
   "outputs": [
    {
     "data": {
      "image/png": "[encoded data removed]",
      "text/plain": [
       "<Figure size 432x288 with 2 Axes>"
      ]
     },
     "metadata": {},
     "output_type": "display_data"
    }
   ],
   "source": [
    "# Vizualizarea confusion matrix utilizand sns.crossstab()\n",
    "sns.set(font_scale=1.5)\n",
    "sns.heatmap(conf_mat);"
   ]
  },
  {
   "cell_type": "code",
   "execution_count": 262,
   "id": "1bea07e5",
   "metadata": {},
   "outputs": [
    {
     "data": {
      "image/png": "[encoded data removed]",
      "text/plain": [
       "<Figure size 216x216 with 1 Axes>"
      ]
     },
     "metadata": {},
     "output_type": "display_data"
    }
   ],
   "source": [
    "# perfectionare vizualizarii confusion matric prin eleborarea unei functii\n",
    "def plot_conf_mat(conf_mat):\n",
    "    \"\"\"\n",
    "    Vizualizeaza confusion matrix prin utilizarea Seaborn's heatmap()\n",
    "    \"\"\"\n",
    "    fig, ax = plt.subplots(figsize=(3,3))\n",
    "    ax = sns.heatmap(conf_mat,\n",
    "                     annot=True, # includerea informatie pe grafic\n",
    "                     cbar=False # ecluderea barei cu culori\n",
    "                     )\n",
    "    plt.xlabel('Valorile prezise')\n",
    "    plt.ylabel('Valorile adevarate')\n",
    "\n",
    "plot_conf_mat(conf_mat)"
   ]
  },
  {
   "cell_type": "markdown",
   "id": "1b776536",
   "metadata": {},
   "source": [
    "## e) Evaluarea modelului utilizand `Classification Report`"
   ]
  },
  {
   "cell_type": "code",
   "execution_count": 263,
   "id": "8cf8bdfb",
   "metadata": {},
   "outputs": [],
   "source": [
    "# importul modului classifiction_report\n",
    "from sklearn.metrics import classification_report"
   ]
  },
  {
   "cell_type": "code",
   "execution_count": 281,
   "id": "cc8cb9f6",
   "metadata": {},
   "outputs": [
    {
     "name": "stdout",
     "output_type": "stream",
     "text": [
      "              precision    recall  f1-score   support\n",
      "\n",
      "           0       0.64      0.78      0.71        23\n",
      "           1       0.85      0.74      0.79        38\n",
      "\n",
      "    accuracy                           0.75        61\n",
      "   macro avg       0.75      0.76      0.75        61\n",
      "weighted avg       0.77      0.75      0.76        61\n",
      "\n"
     ]
    }
   ],
   "source": [
    "# vizualizarea classification_report\n",
    "np.random.seed(9)\n",
    "classif_report = classification_report(y_test, y_preds)\n",
    "print(classif_report)"
   ]
  },
  {
   "cell_type": "code",
   "execution_count": 266,
   "id": "9125d146",
   "metadata": {},
   "outputs": [
    {
     "data": {
      "text/html": [
       "<div>\n",
       "<style scoped>\n",
       "    .dataframe tbody tr th:only-of-type {\n",
       "        vertical-align: middle;\n",
       "    }\n",
       "\n",
       "    .dataframe tbody tr th {\n",
       "        vertical-align: top;\n",
       "    }\n",
       "\n",
       "    .dataframe thead th {\n",
       "        text-align: right;\n",
       "    }\n",
       "</style>\n",
       "<table border=\"1\" class=\"dataframe\">\n",
       "  <thead>\n",
       "    <tr style=\"text-align: right;\">\n",
       "      <th></th>\n",
       "      <th>0</th>\n",
       "      <th>1</th>\n",
       "      <th>accuracy</th>\n",
       "      <th>macro avg</th>\n",
       "      <th>weighted avg</th>\n",
       "    </tr>\n",
       "  </thead>\n",
       "  <tbody>\n",
       "    <tr>\n",
       "      <th>precision</th>\n",
       "      <td>0.642857</td>\n",
       "      <td>0.848485</td>\n",
       "      <td>0.754098</td>\n",
       "      <td>0.745671</td>\n",
       "      <td>0.770953</td>\n",
       "    </tr>\n",
       "    <tr>\n",
       "      <th>recall</th>\n",
       "      <td>0.782609</td>\n",
       "      <td>0.736842</td>\n",
       "      <td>0.754098</td>\n",
       "      <td>0.759725</td>\n",
       "      <td>0.754098</td>\n",
       "    </tr>\n",
       "    <tr>\n",
       "      <th>f1-score</th>\n",
       "      <td>0.705882</td>\n",
       "      <td>0.788732</td>\n",
       "      <td>0.754098</td>\n",
       "      <td>0.747307</td>\n",
       "      <td>0.757494</td>\n",
       "    </tr>\n",
       "    <tr>\n",
       "      <th>support</th>\n",
       "      <td>23.000000</td>\n",
       "      <td>38.000000</td>\n",
       "      <td>0.754098</td>\n",
       "      <td>61.000000</td>\n",
       "      <td>61.000000</td>\n",
       "    </tr>\n",
       "  </tbody>\n",
       "</table>\n",
       "</div>"
      ],
      "text/plain": [
       "                   0          1  accuracy  macro avg  weighted avg\n",
       "precision   0.642857   0.848485  0.754098   0.745671      0.770953\n",
       "recall      0.782609   0.736842  0.754098   0.759725      0.754098\n",
       "f1-score    0.705882   0.788732  0.754098   0.747307      0.757494\n",
       "support    23.000000  38.000000  0.754098  61.000000     61.000000"
      ]
     },
     "execution_count": 266,
     "metadata": {},
     "output_type": "execute_result"
    }
   ],
   "source": [
    "# vizualizarea classification_report cu ajutorul pandas\n",
    "pd.DataFrame(classification_report(y_test, y_preds, output_dict=True))"
   ]
  },
  {
   "cell_type": "markdown",
   "id": "0f237203",
   "metadata": {},
   "source": [
    "Explicatii detaliate referitoare la parametrii din classification report se pot gasi pe adresele:\n",
    "https://www.youtube.com/watch?v=8U65xDCzs_4&ab_channel=technologyCult\n",
    "\n",
    "https://towardsdatascience.com/choosing-performance-metrics-61b40819eae1\n",
    "\n",
    "https://towardsdatascience.com/beyond-accuracy-precision-and-recall-3da06bea9f6c\n",
    "    "
   ]
  },
  {
   "cell_type": "markdown",
   "id": "c522d368",
   "metadata": {},
   "source": [
    "## f) Evaluarea modelului modificand parametrul `scoring` in `cross-validation`"
   ]
  },
  {
   "cell_type": "code",
   "execution_count": 288,
   "id": "6c2068c5",
   "metadata": {},
   "outputs": [],
   "source": [
    "# importul modulului cross-validation\n",
    "from sklearn.model_selection import cross_val_score"
   ]
  },
  {
   "cell_type": "markdown",
   "id": "91b8522b",
   "metadata": {},
   "source": [
    "#### a. Parametrul implicit `scoring=None` "
   ]
  },
  {
   "cell_type": "code",
   "execution_count": 287,
   "id": "ca400a08",
   "metadata": {},
   "outputs": [
    {
     "data": {
      "text/plain": [
       "array([0.81967213, 0.8852459 , 0.81967213, 0.81666667, 0.76666667])"
      ]
     },
     "execution_count": 287,
     "metadata": {},
     "output_type": "execute_result"
    }
   ],
   "source": [
    "# Utilizarea cross-validation cu parametrul scoring implicit (scoring=None)\n",
    "\n",
    "np.random.seed(9)\n",
    "cv_imp=cross_val_score(clf, X, y, cv=5, scoring=None)\n",
    "cv_imp"
   ]
  },
  {
   "cell_type": "code",
   "execution_count": 286,
   "id": "4891f86c",
   "metadata": {},
   "outputs": [
    {
     "name": "stdout",
     "output_type": "stream",
     "text": [
      "Valoarea medie a rezultatelor cross_validation este: 82.16%\n"
     ]
    }
   ],
   "source": [
    "# afisarea valorii medii\n",
    "print(f'Valoarea medie a rezultatelor cross_validation este: {np.mean(cv_imp)*100:.2f}%')"
   ]
  },
  {
   "cell_type": "markdown",
   "id": "03103013",
   "metadata": {},
   "source": [
    "#### b. Parametrul `scoring='accuracy'` "
   ]
  },
  {
   "cell_type": "code",
   "execution_count": 285,
   "id": "9d069e95",
   "metadata": {},
   "outputs": [
    {
     "data": {
      "text/plain": [
       "array([0.81967213, 0.8852459 , 0.81967213, 0.81666667, 0.76666667])"
      ]
     },
     "execution_count": 285,
     "metadata": {},
     "output_type": "execute_result"
    }
   ],
   "source": [
    "# Utilizarea cross-validation cu parametrul scoring='accuracy'\n",
    "\n",
    "np.random.seed(9)\n",
    "cv_acc=cross_val_score(clf, X, y, cv=5, scoring='accuracy')\n",
    "cv_acc"
   ]
  },
  {
   "cell_type": "code",
   "execution_count": 284,
   "id": "72f4ab53",
   "metadata": {},
   "outputs": [
    {
     "name": "stdout",
     "output_type": "stream",
     "text": [
      "Valoarea medie a accuracy in cross_validation este: 82.16%\n"
     ]
    }
   ],
   "source": [
    "# afisarea valorii medii a accuracy\n",
    "print(f'Valoarea medie a accuracy in cross_validation este: {np.mean(cv_acc)*100:.2f}%')"
   ]
  },
  {
   "cell_type": "markdown",
   "id": "d701032f",
   "metadata": {},
   "source": [
    "Rezultatele in cazul `scoring=None` si `scoring='accuracy'` sunt acelesi adica paramatrul implicit in cazul cross-validation este accuracy"
   ]
  },
  {
   "cell_type": "markdown",
   "id": "fc6da52f",
   "metadata": {},
   "source": [
    "#### c. Parametrul `scoring='precision'` "
   ]
  },
  {
   "cell_type": "code",
   "execution_count": 289,
   "id": "e03b3e7e",
   "metadata": {},
   "outputs": [
    {
     "data": {
      "text/plain": [
       "array([0.80555556, 0.93333333, 0.82352941, 0.84375   , 0.75675676])"
      ]
     },
     "execution_count": 289,
     "metadata": {},
     "output_type": "execute_result"
    }
   ],
   "source": [
    "# Utilizarea cross-validation cu parametrul scoring='precision'\n",
    "\n",
    "np.random.seed(9)\n",
    "cv_precision=cross_val_score(clf, X, y, cv=5, scoring='precision')\n",
    "cv_precision"
   ]
  },
  {
   "cell_type": "code",
   "execution_count": 282,
   "id": "29fbecfb",
   "metadata": {},
   "outputs": [
    {
     "name": "stdout",
     "output_type": "stream",
     "text": [
      "Valoarea medie a precision in cross_validation este: 83.26%\n"
     ]
    }
   ],
   "source": [
    "# afisarea valorii medii a precision\n",
    "print(f'Valoarea medie a precision in cross_validation este: {np.mean(cv_precision)*100:.2f}%')"
   ]
  },
  {
   "cell_type": "markdown",
   "id": "fb9bd1a4",
   "metadata": {},
   "source": [
    "#### d. Parametrul `scoring='recall'`"
   ]
  },
  {
   "cell_type": "code",
   "execution_count": 279,
   "id": "e8a93b47",
   "metadata": {},
   "outputs": [
    {
     "data": {
      "text/plain": [
       "array([0.87878788, 0.84848485, 0.84848485, 0.81818182, 0.84848485])"
      ]
     },
     "execution_count": 279,
     "metadata": {},
     "output_type": "execute_result"
    }
   ],
   "source": [
    "# Utilizarea cross-validation cu parametrul scoring='recall'\n",
    "\n",
    "np.random.seed(9)\n",
    "cv_recall=cross_val_score(clf, X, y, cv=5, scoring='recall')\n",
    "cv_recall"
   ]
  },
  {
   "cell_type": "code",
   "execution_count": 280,
   "id": "44f53142",
   "metadata": {},
   "outputs": [
    {
     "name": "stdout",
     "output_type": "stream",
     "text": [
      "Valoarea medie a recall in cross_validation este: 84.85%\n"
     ]
    }
   ],
   "source": [
    "# afisarea valorii medii a recall\n",
    "print(f'Valoarea medie a recall in cross_validation este: {np.mean(cv_recall)*100:.2f}%')"
   ]
  },
  {
   "cell_type": "markdown",
   "id": "4a738c12",
   "metadata": {},
   "source": [
    "#### e. Parametrul `scoring='f1'`"
   ]
  },
  {
   "cell_type": "code",
   "execution_count": 290,
   "id": "65291cef",
   "metadata": {},
   "outputs": [
    {
     "data": {
      "text/plain": [
       "array([0.84057971, 0.88888889, 0.8358209 , 0.83076923, 0.8       ])"
      ]
     },
     "execution_count": 290,
     "metadata": {},
     "output_type": "execute_result"
    }
   ],
   "source": [
    "# Utilizarea cross-validation cu parametrul scoring='f1'\n",
    "\n",
    "np.random.seed(9)\n",
    "cv_f1=cross_val_score(clf, X, y, cv=5, scoring='f1')\n",
    "cv_f1"
   ]
  },
  {
   "cell_type": "code",
   "execution_count": 291,
   "id": "e740a7c3",
   "metadata": {},
   "outputs": [
    {
     "name": "stdout",
     "output_type": "stream",
     "text": [
      "Valoarea medie a f1 in cross_validation este: 83.92%\n"
     ]
    }
   ],
   "source": [
    "# afisarea valorii medii a f1\n",
    "print(f'Valoarea medie a f1 in cross_validation este: {np.mean(cv_f1)*100:.2f}%')"
   ]
  },
  {
   "cell_type": "markdown",
   "id": "ef134980",
   "metadata": {},
   "source": [
    "## f) Evaluarea modelului utilizand functiile de evaluare Scikit-Learn"
   ]
  },
  {
   "cell_type": "code",
   "execution_count": 292,
   "id": "a9a393f6",
   "metadata": {},
   "outputs": [],
   "source": [
    "# importul functiilor de evaluare\n",
    "from sklearn.metrics import accuracy_score, precision_score, recall_score, f1_score"
   ]
  },
  {
   "cell_type": "code",
   "execution_count": 293,
   "id": "95d96498",
   "metadata": {},
   "outputs": [
    {
     "name": "stdout",
     "output_type": "stream",
     "text": [
      "Rezultatele evaluarii cu diferite functii:\n",
      "Accuracy: 75.41%\n",
      "Precision: 84.85%\n",
      "Recall: 73.68%\n",
      "F1: 78.87%\n"
     ]
    }
   ],
   "source": [
    "# evaluarea modelului cu functiile de evaluare\n",
    "np.random.seed(9)\n",
    "\n",
    "print(\"Rezultatele evaluarii cu diferite functii:\")\n",
    "print(f'Accuracy: {accuracy_score(y_test, y_preds)*100:.2f}%')\n",
    "print(f'Precision: {precision_score(y_test, y_preds)*100:.2f}%')\n",
    "print(f'Recall: {recall_score(y_test, y_preds)*100:.2f}%')\n",
    "print(f'F1: {f1_score(y_test, y_preds)*100:.2f}%')"
   ]
  },
  {
   "cell_type": "code",
   "execution_count": null,
   "id": "a77977c3",
   "metadata": {},
   "outputs": [],
   "source": []
  }
 ],
 "metadata": {
  "kernelspec": {
   "display_name": "Python 3",
   "language": "python",
   "name": "python3"
  },
  "language_info": {
   "codemirror_mode": {
    "name": "ipython",
    "version": 3
   },
   "file_extension": ".py",
   "mimetype": "text/x-python",
   "name": "python",
   "nbconvert_exporter": "python",
   "pygments_lexer": "ipython3",
   "version": "3.9.4"
  }
 },
 "nbformat": 4,
 "nbformat_minor": 5
}
