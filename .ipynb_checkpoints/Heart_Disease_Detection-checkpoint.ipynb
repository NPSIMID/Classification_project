{
 "cells": [
  {
   "cell_type": "markdown",
   "id": "07168781",
   "metadata": {},
   "source": [
    "# Content\n",
    "## 1. Pregatirea datelor\n",
    "## 2. Selectarea algoritmului corespunzator problemei\n",
    "## 3. Implementarea algoritmului si realizarea predictiei\n",
    "## 4. Evaluarea modelului\n",
    "## 5. Imbunatatirea modelului\n",
    "## 6. Salvarea si incarcarea modelului\n",
    "## 7. Combinarea tuturor etapelor\n"
   ]
  },
  {
   "cell_type": "markdown",
   "id": "39b49989",
   "metadata": {},
   "source": [
    "# 0. Importul bibliotecilor"
   ]
  },
  {
   "cell_type": "code",
   "execution_count": 7,
   "id": "7c241ab3",
   "metadata": {},
   "outputs": [],
   "source": [
    "import pandas as pd\n",
    "import numpy as np\n",
    "import matplotlib.pyplot as plt\n",
    "%matplotlib inline"
   ]
  },
  {
   "cell_type": "markdown",
   "id": "6c1150e3",
   "metadata": {},
   "source": [
    "# 1. Pregatirea datelor"
   ]
  },
  {
   "cell_type": "markdown",
   "id": "7b02e97d",
   "metadata": {},
   "source": [
    "Content\n",
    "1. Importul datelor\n",
    "2. Divizarea datelor in date feature si date labels (X si y)\n",
    "3. Completarea sau excluderea datelor lipsa\n",
    "4. Conversia valorilor non-numetice in numerice (feature encoding)"
   ]
  },
  {
   "cell_type": "code",
   "execution_count": 10,
   "id": "958bc01b",
   "metadata": {},
   "outputs": [],
   "source": [
    "# importul datelor\n",
    "heart_disease=pd.read_csv('heart-disease.csv')"
   ]
  },
  {
   "cell_type": "code",
   "execution_count": 13,
   "id": "703eb10d",
   "metadata": {
    "scrolled": true
   },
   "outputs": [
    {
     "data": {
      "text/html": [
       "<div>\n",
       "<style scoped>\n",
       "    .dataframe tbody tr th:only-of-type {\n",
       "        vertical-align: middle;\n",
       "    }\n",
       "\n",
       "    .dataframe tbody tr th {\n",
       "        vertical-align: top;\n",
       "    }\n",
       "\n",
       "    .dataframe thead th {\n",
       "        text-align: right;\n",
       "    }\n",
       "</style>\n",
       "<table border=\"1\" class=\"dataframe\">\n",
       "  <thead>\n",
       "    <tr style=\"text-align: right;\">\n",
       "      <th></th>\n",
       "      <th>age</th>\n",
       "      <th>sex</th>\n",
       "      <th>cp</th>\n",
       "      <th>trestbps</th>\n",
       "      <th>chol</th>\n",
       "      <th>fbs</th>\n",
       "      <th>restecg</th>\n",
       "      <th>thalach</th>\n",
       "      <th>exang</th>\n",
       "      <th>oldpeak</th>\n",
       "      <th>slope</th>\n",
       "      <th>ca</th>\n",
       "      <th>thal</th>\n",
       "      <th>target</th>\n",
       "    </tr>\n",
       "  </thead>\n",
       "  <tbody>\n",
       "    <tr>\n",
       "      <th>0</th>\n",
       "      <td>63</td>\n",
       "      <td>1</td>\n",
       "      <td>3</td>\n",
       "      <td>145</td>\n",
       "      <td>233</td>\n",
       "      <td>1</td>\n",
       "      <td>0</td>\n",
       "      <td>150</td>\n",
       "      <td>0</td>\n",
       "      <td>2.3</td>\n",
       "      <td>0</td>\n",
       "      <td>0</td>\n",
       "      <td>1</td>\n",
       "      <td>1</td>\n",
       "    </tr>\n",
       "    <tr>\n",
       "      <th>1</th>\n",
       "      <td>37</td>\n",
       "      <td>1</td>\n",
       "      <td>2</td>\n",
       "      <td>130</td>\n",
       "      <td>250</td>\n",
       "      <td>0</td>\n",
       "      <td>1</td>\n",
       "      <td>187</td>\n",
       "      <td>0</td>\n",
       "      <td>3.5</td>\n",
       "      <td>0</td>\n",
       "      <td>0</td>\n",
       "      <td>2</td>\n",
       "      <td>1</td>\n",
       "    </tr>\n",
       "    <tr>\n",
       "      <th>2</th>\n",
       "      <td>41</td>\n",
       "      <td>0</td>\n",
       "      <td>1</td>\n",
       "      <td>130</td>\n",
       "      <td>204</td>\n",
       "      <td>0</td>\n",
       "      <td>0</td>\n",
       "      <td>172</td>\n",
       "      <td>0</td>\n",
       "      <td>1.4</td>\n",
       "      <td>2</td>\n",
       "      <td>0</td>\n",
       "      <td>2</td>\n",
       "      <td>1</td>\n",
       "    </tr>\n",
       "    <tr>\n",
       "      <th>3</th>\n",
       "      <td>56</td>\n",
       "      <td>1</td>\n",
       "      <td>1</td>\n",
       "      <td>120</td>\n",
       "      <td>236</td>\n",
       "      <td>0</td>\n",
       "      <td>1</td>\n",
       "      <td>178</td>\n",
       "      <td>0</td>\n",
       "      <td>0.8</td>\n",
       "      <td>2</td>\n",
       "      <td>0</td>\n",
       "      <td>2</td>\n",
       "      <td>1</td>\n",
       "    </tr>\n",
       "    <tr>\n",
       "      <th>4</th>\n",
       "      <td>57</td>\n",
       "      <td>0</td>\n",
       "      <td>0</td>\n",
       "      <td>120</td>\n",
       "      <td>354</td>\n",
       "      <td>0</td>\n",
       "      <td>1</td>\n",
       "      <td>163</td>\n",
       "      <td>1</td>\n",
       "      <td>0.6</td>\n",
       "      <td>2</td>\n",
       "      <td>0</td>\n",
       "      <td>2</td>\n",
       "      <td>1</td>\n",
       "    </tr>\n",
       "    <tr>\n",
       "      <th>5</th>\n",
       "      <td>57</td>\n",
       "      <td>1</td>\n",
       "      <td>0</td>\n",
       "      <td>140</td>\n",
       "      <td>192</td>\n",
       "      <td>0</td>\n",
       "      <td>1</td>\n",
       "      <td>148</td>\n",
       "      <td>0</td>\n",
       "      <td>0.4</td>\n",
       "      <td>1</td>\n",
       "      <td>0</td>\n",
       "      <td>1</td>\n",
       "      <td>1</td>\n",
       "    </tr>\n",
       "    <tr>\n",
       "      <th>6</th>\n",
       "      <td>56</td>\n",
       "      <td>0</td>\n",
       "      <td>1</td>\n",
       "      <td>140</td>\n",
       "      <td>294</td>\n",
       "      <td>0</td>\n",
       "      <td>0</td>\n",
       "      <td>153</td>\n",
       "      <td>0</td>\n",
       "      <td>1.3</td>\n",
       "      <td>1</td>\n",
       "      <td>0</td>\n",
       "      <td>2</td>\n",
       "      <td>1</td>\n",
       "    </tr>\n",
       "    <tr>\n",
       "      <th>7</th>\n",
       "      <td>44</td>\n",
       "      <td>1</td>\n",
       "      <td>1</td>\n",
       "      <td>120</td>\n",
       "      <td>263</td>\n",
       "      <td>0</td>\n",
       "      <td>1</td>\n",
       "      <td>173</td>\n",
       "      <td>0</td>\n",
       "      <td>0.0</td>\n",
       "      <td>2</td>\n",
       "      <td>0</td>\n",
       "      <td>3</td>\n",
       "      <td>1</td>\n",
       "    </tr>\n",
       "    <tr>\n",
       "      <th>8</th>\n",
       "      <td>52</td>\n",
       "      <td>1</td>\n",
       "      <td>2</td>\n",
       "      <td>172</td>\n",
       "      <td>199</td>\n",
       "      <td>1</td>\n",
       "      <td>1</td>\n",
       "      <td>162</td>\n",
       "      <td>0</td>\n",
       "      <td>0.5</td>\n",
       "      <td>2</td>\n",
       "      <td>0</td>\n",
       "      <td>3</td>\n",
       "      <td>1</td>\n",
       "    </tr>\n",
       "    <tr>\n",
       "      <th>9</th>\n",
       "      <td>57</td>\n",
       "      <td>1</td>\n",
       "      <td>2</td>\n",
       "      <td>150</td>\n",
       "      <td>168</td>\n",
       "      <td>0</td>\n",
       "      <td>1</td>\n",
       "      <td>174</td>\n",
       "      <td>0</td>\n",
       "      <td>1.6</td>\n",
       "      <td>2</td>\n",
       "      <td>0</td>\n",
       "      <td>2</td>\n",
       "      <td>1</td>\n",
       "    </tr>\n",
       "  </tbody>\n",
       "</table>\n",
       "</div>"
      ],
      "text/plain": [
       "   age  sex  cp  trestbps  chol  fbs  restecg  thalach  exang  oldpeak  slope  \\\n",
       "0   63    1   3       145   233    1        0      150      0      2.3      0   \n",
       "1   37    1   2       130   250    0        1      187      0      3.5      0   \n",
       "2   41    0   1       130   204    0        0      172      0      1.4      2   \n",
       "3   56    1   1       120   236    0        1      178      0      0.8      2   \n",
       "4   57    0   0       120   354    0        1      163      1      0.6      2   \n",
       "5   57    1   0       140   192    0        1      148      0      0.4      1   \n",
       "6   56    0   1       140   294    0        0      153      0      1.3      1   \n",
       "7   44    1   1       120   263    0        1      173      0      0.0      2   \n",
       "8   52    1   2       172   199    1        1      162      0      0.5      2   \n",
       "9   57    1   2       150   168    0        1      174      0      1.6      2   \n",
       "\n",
       "   ca  thal  target  \n",
       "0   0     1       1  \n",
       "1   0     2       1  \n",
       "2   0     2       1  \n",
       "3   0     2       1  \n",
       "4   0     2       1  \n",
       "5   0     1       1  \n",
       "6   0     2       1  \n",
       "7   0     3       1  \n",
       "8   0     3       1  \n",
       "9   0     2       1  "
      ]
     },
     "execution_count": 13,
     "metadata": {},
     "output_type": "execute_result"
    }
   ],
   "source": [
    "heart_disease.head(10)"
   ]
  },
  {
   "cell_type": "code",
   "execution_count": 21,
   "id": "549f3a09",
   "metadata": {},
   "outputs": [
    {
     "data": {
      "text/plain": [
       "0"
      ]
     },
     "execution_count": 21,
     "metadata": {},
     "output_type": "execute_result"
    }
   ],
   "source": [
    "# Verificare datelor lipsa in coloana labels (target)\n",
    "heart_disease['target'].isna().sum()"
   ]
  },
  {
   "cell_type": "markdown",
   "id": "2b17df4a",
   "metadata": {},
   "source": [
    "Deoarece nu exita nici o lipsa in coloana label se continu cu intregul set de date. Daca ar fi existat astfel de lipsuri, randul corespunzator ar fi trebuit exclus din setul de date"
   ]
  },
  {
   "cell_type": "code",
   "execution_count": 26,
   "id": "70c55942",
   "metadata": {},
   "outputs": [
    {
     "data": {
      "text/html": [
       "<div>\n",
       "<style scoped>\n",
       "    .dataframe tbody tr th:only-of-type {\n",
       "        vertical-align: middle;\n",
       "    }\n",
       "\n",
       "    .dataframe tbody tr th {\n",
       "        vertical-align: top;\n",
       "    }\n",
       "\n",
       "    .dataframe thead th {\n",
       "        text-align: right;\n",
       "    }\n",
       "</style>\n",
       "<table border=\"1\" class=\"dataframe\">\n",
       "  <thead>\n",
       "    <tr style=\"text-align: right;\">\n",
       "      <th></th>\n",
       "      <th>age</th>\n",
       "      <th>sex</th>\n",
       "      <th>cp</th>\n",
       "      <th>trestbps</th>\n",
       "      <th>chol</th>\n",
       "      <th>fbs</th>\n",
       "      <th>restecg</th>\n",
       "      <th>thalach</th>\n",
       "      <th>exang</th>\n",
       "      <th>oldpeak</th>\n",
       "      <th>slope</th>\n",
       "      <th>ca</th>\n",
       "      <th>thal</th>\n",
       "    </tr>\n",
       "  </thead>\n",
       "  <tbody>\n",
       "    <tr>\n",
       "      <th>0</th>\n",
       "      <td>63</td>\n",
       "      <td>1</td>\n",
       "      <td>3</td>\n",
       "      <td>145</td>\n",
       "      <td>233</td>\n",
       "      <td>1</td>\n",
       "      <td>0</td>\n",
       "      <td>150</td>\n",
       "      <td>0</td>\n",
       "      <td>2.3</td>\n",
       "      <td>0</td>\n",
       "      <td>0</td>\n",
       "      <td>1</td>\n",
       "    </tr>\n",
       "    <tr>\n",
       "      <th>1</th>\n",
       "      <td>37</td>\n",
       "      <td>1</td>\n",
       "      <td>2</td>\n",
       "      <td>130</td>\n",
       "      <td>250</td>\n",
       "      <td>0</td>\n",
       "      <td>1</td>\n",
       "      <td>187</td>\n",
       "      <td>0</td>\n",
       "      <td>3.5</td>\n",
       "      <td>0</td>\n",
       "      <td>0</td>\n",
       "      <td>2</td>\n",
       "    </tr>\n",
       "    <tr>\n",
       "      <th>2</th>\n",
       "      <td>41</td>\n",
       "      <td>0</td>\n",
       "      <td>1</td>\n",
       "      <td>130</td>\n",
       "      <td>204</td>\n",
       "      <td>0</td>\n",
       "      <td>0</td>\n",
       "      <td>172</td>\n",
       "      <td>0</td>\n",
       "      <td>1.4</td>\n",
       "      <td>2</td>\n",
       "      <td>0</td>\n",
       "      <td>2</td>\n",
       "    </tr>\n",
       "    <tr>\n",
       "      <th>3</th>\n",
       "      <td>56</td>\n",
       "      <td>1</td>\n",
       "      <td>1</td>\n",
       "      <td>120</td>\n",
       "      <td>236</td>\n",
       "      <td>0</td>\n",
       "      <td>1</td>\n",
       "      <td>178</td>\n",
       "      <td>0</td>\n",
       "      <td>0.8</td>\n",
       "      <td>2</td>\n",
       "      <td>0</td>\n",
       "      <td>2</td>\n",
       "    </tr>\n",
       "    <tr>\n",
       "      <th>4</th>\n",
       "      <td>57</td>\n",
       "      <td>0</td>\n",
       "      <td>0</td>\n",
       "      <td>120</td>\n",
       "      <td>354</td>\n",
       "      <td>0</td>\n",
       "      <td>1</td>\n",
       "      <td>163</td>\n",
       "      <td>1</td>\n",
       "      <td>0.6</td>\n",
       "      <td>2</td>\n",
       "      <td>0</td>\n",
       "      <td>2</td>\n",
       "    </tr>\n",
       "  </tbody>\n",
       "</table>\n",
       "</div>"
      ],
      "text/plain": [
       "   age  sex  cp  trestbps  chol  fbs  restecg  thalach  exang  oldpeak  slope  \\\n",
       "0   63    1   3       145   233    1        0      150      0      2.3      0   \n",
       "1   37    1   2       130   250    0        1      187      0      3.5      0   \n",
       "2   41    0   1       130   204    0        0      172      0      1.4      2   \n",
       "3   56    1   1       120   236    0        1      178      0      0.8      2   \n",
       "4   57    0   0       120   354    0        1      163      1      0.6      2   \n",
       "\n",
       "   ca  thal  \n",
       "0   0     1  \n",
       "1   0     2  \n",
       "2   0     2  \n",
       "3   0     2  \n",
       "4   0     2  "
      ]
     },
     "execution_count": 26,
     "metadata": {},
     "output_type": "execute_result"
    }
   ],
   "source": [
    "# Divizarea datelor (coloanelor) in date feature X (caracteristici) si date labels y (rezultat)\n",
    "np.random.seed(9)\n",
    "X=heart_disease.drop('target', axis=1)\n",
    "X.head()"
   ]
  },
  {
   "cell_type": "code",
   "execution_count": 27,
   "id": "2e7d3218",
   "metadata": {},
   "outputs": [
    {
     "data": {
      "text/plain": [
       "0    1\n",
       "1    1\n",
       "2    1\n",
       "3    1\n",
       "4    1\n",
       "Name: target, dtype: int64"
      ]
     },
     "execution_count": 27,
     "metadata": {},
     "output_type": "execute_result"
    }
   ],
   "source": [
    "y=heart_disease['target']\n",
    "y.head()"
   ]
  },
  {
   "cell_type": "code",
   "execution_count": 28,
   "id": "5e888686",
   "metadata": {},
   "outputs": [],
   "source": [
    "# Divizarea datelor in setul training si setul test\n",
    "from sklearn.model_selection import train_test_split\n",
    "X_train, X_test, y_train, y_test = train_test_split(X, \n",
    "                                                    y, \n",
    "                                                    test_size = 0.2)"
   ]
  },
  {
   "cell_type": "code",
   "execution_count": 29,
   "id": "ba9ab029",
   "metadata": {},
   "outputs": [
    {
     "data": {
      "text/plain": [
       "((242, 13), (61, 13), (242,), (61,))"
      ]
     },
     "execution_count": 29,
     "metadata": {},
     "output_type": "execute_result"
    }
   ],
   "source": [
    "# Verificarea dimensiunilor seturilor de training si de test\n",
    "X_train.shape, X_test.shape, y_train.shape, y_test.shape"
   ]
  },
  {
   "cell_type": "code",
   "execution_count": 30,
   "id": "e70a71e8",
   "metadata": {},
   "outputs": [
    {
     "data": {
      "text/plain": [
       "age         0\n",
       "sex         0\n",
       "cp          0\n",
       "trestbps    0\n",
       "chol        0\n",
       "fbs         0\n",
       "restecg     0\n",
       "thalach     0\n",
       "exang       0\n",
       "oldpeak     0\n",
       "slope       0\n",
       "ca          0\n",
       "thal        0\n",
       "dtype: int64"
      ]
     },
     "execution_count": 30,
     "metadata": {},
     "output_type": "execute_result"
    }
   ],
   "source": [
    "# Verificarea prezentei datelor lipsa seturile feature de training (in colona label s-a verificat mai sus)\n",
    "X_train.isna().sum()"
   ]
  },
  {
   "cell_type": "code",
   "execution_count": 31,
   "id": "ba6043a5",
   "metadata": {},
   "outputs": [
    {
     "data": {
      "text/plain": [
       "age         0\n",
       "sex         0\n",
       "cp          0\n",
       "trestbps    0\n",
       "chol        0\n",
       "fbs         0\n",
       "restecg     0\n",
       "thalach     0\n",
       "exang       0\n",
       "oldpeak     0\n",
       "slope       0\n",
       "ca          0\n",
       "thal        0\n",
       "dtype: int64"
      ]
     },
     "execution_count": 31,
     "metadata": {},
     "output_type": "execute_result"
    }
   ],
   "source": [
    "# Verificarea prezentei datelor lipsa seturile feature de test (in colona label s-a verificat mai sus)\n",
    "X_test.isna().sum()"
   ]
  },
  {
   "cell_type": "markdown",
   "id": "36037b3a",
   "metadata": {},
   "source": [
    "Nu exista date lipsa, deci nu este necesara procedura de completare a datelor lipsa "
   ]
  },
  {
   "cell_type": "code",
   "execution_count": 32,
   "id": "b71d3f23",
   "metadata": {},
   "outputs": [
    {
     "data": {
      "text/plain": [
       "age           int64\n",
       "sex           int64\n",
       "cp            int64\n",
       "trestbps      int64\n",
       "chol          int64\n",
       "fbs           int64\n",
       "restecg       int64\n",
       "thalach       int64\n",
       "exang         int64\n",
       "oldpeak     float64\n",
       "slope         int64\n",
       "ca            int64\n",
       "thal          int64\n",
       "target        int64\n",
       "dtype: object"
      ]
     },
     "execution_count": 32,
     "metadata": {},
     "output_type": "execute_result"
    }
   ],
   "source": [
    "# Verificare tipurilor de date in fiecare coloana\n",
    "heart_disease.dtypes"
   ]
  },
  {
   "cell_type": "markdown",
   "id": "f24b7270",
   "metadata": {},
   "source": [
    "Toate datele sunt de tip numeric deci nu este necesara procedura de conversie a datelor non-numerice in numerice"
   ]
  },
  {
   "cell_type": "markdown",
   "id": "ef60556b",
   "metadata": {},
   "source": [
    "# 2a. Selectarea algoritmului corespunzator problemei"
   ]
  },
  {
   "cell_type": "markdown",
   "id": "970f82f7",
   "metadata": {},
   "source": [
    "Sarcina problemei este de a determina daca o persoana este bolnava de inima sau nu, deci problema face parte din categoria problemelor de clasificare si prin urmare se va selecta un algoritm (estimator) de clasificare"
   ]
  },
  {
   "cell_type": "markdown",
   "id": "62dda9e2",
   "metadata": {},
   "source": [
    "Pentru selectarea algoritmului/estimator-ului corespunzator se va parcurge harta: https://scikit-learn.org/stable/tutorial/machine_learning_map/index.html"
   ]
  },
  {
   "cell_type": "markdown",
   "id": "1ef1d962",
   "metadata": {},
   "source": [
    "Conform hartii scikit-learn se alege algoritmul LinearSVC"
   ]
  },
  {
   "cell_type": "code",
   "execution_count": 34,
   "id": "531c2a5f",
   "metadata": {},
   "outputs": [],
   "source": [
    "#Importul estimatorului LinearSVC\n",
    "from sklearn.svm import LinearSVC"
   ]
  },
  {
   "cell_type": "code",
   "execution_count": 35,
   "id": "4288219c",
   "metadata": {},
   "outputs": [],
   "source": [
    "# Instantierea algoritmului LinearSVC\n",
    "clf=LinearSVC()"
   ]
  },
  {
   "cell_type": "markdown",
   "id": "4a08b6a4",
   "metadata": {},
   "source": [
    "# 3a. Implementarea algoritmului"
   ]
  },
  {
   "cell_type": "code",
   "execution_count": 39,
   "id": "b3c164b1",
   "metadata": {},
   "outputs": [
    {
     "name": "stderr",
     "output_type": "stream",
     "text": [
      "E:\\Machine_learning\\Machine_learning_projects\\Classification_project\\env\\lib\\site-packages\\sklearn\\svm\\_base.py:985: ConvergenceWarning: Liblinear failed to converge, increase the number of iterations.\n",
      "  warnings.warn(\"Liblinear failed to converge, increase \"\n"
     ]
    },
    {
     "data": {
      "text/plain": [
       "LinearSVC()"
      ]
     },
     "execution_count": 39,
     "metadata": {},
     "output_type": "execute_result"
    }
   ],
   "source": [
    "#Implementarea algoritmului LinearSVC pe datele de training\n",
    "clf.fit(X_train, y_train)"
   ]
  },
  {
   "cell_type": "markdown",
   "id": "0bde13c5",
   "metadata": {},
   "source": [
    "# 4a. Evaluarea modelului"
   ]
  },
  {
   "cell_type": "code",
   "execution_count": 40,
   "id": "732dd0f3",
   "metadata": {},
   "outputs": [
    {
     "data": {
      "text/plain": [
       "0.8032786885245902"
      ]
     },
     "execution_count": 40,
     "metadata": {},
     "output_type": "execute_result"
    }
   ],
   "source": [
    "# Evaluarea modelului pe datele de test\n",
    "clf.score(X_test, y_test)"
   ]
  },
  {
   "cell_type": "markdown",
   "id": "60e1600e",
   "metadata": {},
   "source": [
    "Modelul elaborat pe baza datelor de training implementand algoritmul LinearSVC are o precizie de 80% la evaluarea sa pe datele de test.\n",
    "In incercarea de a creste aceasta precizie se va incerca utiliza altul algoritm conform hartii scikit-learn"
   ]
  },
  {
   "cell_type": "markdown",
   "id": "a64c8038",
   "metadata": {},
   "source": [
    "# 2b. Selectarea altui algoritmului"
   ]
  },
  {
   "cell_type": "markdown",
   "id": "501e09c5",
   "metadata": {},
   "source": [
    "Conform hartii scikit-learn daca nu suntem multumiti cu precizia lui modelului pe baza algoritmului LinearSVC urmatorul algorit ce poate fi utilizat este KNeighborsClassifier"
   ]
  },
  {
   "cell_type": "code",
   "execution_count": 41,
   "id": "6a72d420",
   "metadata": {},
   "outputs": [],
   "source": [
    "#Importul estimatorului KNeighborsClassifier\n",
    "from sklearn.neighbors import KNeighborsClassifier"
   ]
  },
  {
   "cell_type": "code",
   "execution_count": 42,
   "id": "c4d8cb8e",
   "metadata": {},
   "outputs": [],
   "source": [
    "# Instantierea algoritmului LinearSVC\n",
    "clf=KNeighborsClassifier()"
   ]
  },
  {
   "cell_type": "markdown",
   "id": "c7be91f5",
   "metadata": {},
   "source": [
    "# 3b. Implementarea algoritmului"
   ]
  },
  {
   "cell_type": "code",
   "execution_count": 43,
   "id": "a5d80bed",
   "metadata": {},
   "outputs": [
    {
     "data": {
      "text/plain": [
       "KNeighborsClassifier()"
      ]
     },
     "execution_count": 43,
     "metadata": {},
     "output_type": "execute_result"
    }
   ],
   "source": [
    "#Implementarea algoritmului KNeighborsClassifier pe datele de training\n",
    "clf.fit(X_train, y_train)"
   ]
  },
  {
   "cell_type": "markdown",
   "id": "0b969cfb",
   "metadata": {},
   "source": [
    "# 4b. Evaluarea modelului"
   ]
  },
  {
   "cell_type": "code",
   "execution_count": 44,
   "id": "14c7336f",
   "metadata": {},
   "outputs": [
    {
     "data": {
      "text/plain": [
       "0.7049180327868853"
      ]
     },
     "execution_count": 44,
     "metadata": {},
     "output_type": "execute_result"
    }
   ],
   "source": [
    "# Evaluarea modelului pe datele de test\n",
    "clf.score(X_test, y_test)"
   ]
  },
  {
   "cell_type": "markdown",
   "id": "31d3da61",
   "metadata": {},
   "source": [
    "Modelul elaborat pe baza datelor de training implementand algoritmul KNeighborsClassifier are o precizie de 70% la evaluarea sa pe datele de test.\n",
    "Conform hartii scikit-learn daca nu suntem multumiti de preciziile obtinute se mai incerca de a utiliza si alt algoritm "
   ]
  },
  {
   "cell_type": "markdown",
   "id": "948657db",
   "metadata": {},
   "source": [
    "# 2c. Selectarea altui algoritmului"
   ]
  },
  {
   "cell_type": "markdown",
   "id": "69b92d3e",
   "metadata": {},
   "source": [
    "Conform hartii scikit-learn daca nu suntem multumiti cu precizia lui modelului pe baza algoritmului KNeighborsClassifier urmatorul algoritm ce poate fi utilizat este unui din categoria Ensemble Classifier care de exemplu poate fi RandomForestClassifier"
   ]
  },
  {
   "cell_type": "code",
   "execution_count": 45,
   "id": "3a3c924a",
   "metadata": {},
   "outputs": [],
   "source": [
    "#Importul estimatorului RandomForestClassifier\n",
    "from sklearn.ensemble import RandomForestClassifier"
   ]
  },
  {
   "cell_type": "code",
   "execution_count": 46,
   "id": "d4f98e94",
   "metadata": {},
   "outputs": [],
   "source": [
    "# Instantierea algoritmului RandomForestClassifier\n",
    "clf = RandomForestClassifier()"
   ]
  },
  {
   "cell_type": "markdown",
   "id": "68812554",
   "metadata": {},
   "source": [
    "# 3c. Implementarea algoritmului"
   ]
  },
  {
   "cell_type": "code",
   "execution_count": 47,
   "id": "d4fb76f2",
   "metadata": {},
   "outputs": [
    {
     "data": {
      "text/plain": [
       "RandomForestClassifier()"
      ]
     },
     "execution_count": 47,
     "metadata": {},
     "output_type": "execute_result"
    }
   ],
   "source": [
    "#Implementarea algoritmului RandomForestClassifier pe datele de training\n",
    "clf.fit(X_train, y_train)"
   ]
  },
  {
   "cell_type": "markdown",
   "id": "d72e7d72",
   "metadata": {},
   "source": [
    "# 4c. Evaluarea modelului"
   ]
  },
  {
   "cell_type": "code",
   "execution_count": 48,
   "id": "d454ead1",
   "metadata": {},
   "outputs": [
    {
     "data": {
      "text/plain": [
       "0.8032786885245902"
      ]
     },
     "execution_count": 48,
     "metadata": {},
     "output_type": "execute_result"
    }
   ],
   "source": [
    "# Evaluarea modelului pe datele de test\n",
    "clf.score(X_test, y_test)"
   ]
  },
  {
   "cell_type": "markdown",
   "id": "df1f2b37",
   "metadata": {},
   "source": [
    "Modelul elaborat pe baza datelor de training implementand algoritmul RandomForestClassifier are o precizie de 80% la evaluarea sa pe datele de test.\n",
    "Pentru a creste aceasta precizie se poate utilizat un alt algoritm din categoria Ensemble Classifier care de exemplu poate fi AdaBoostClassifier"
   ]
  },
  {
   "cell_type": "markdown",
   "id": "c0e2c1c6",
   "metadata": {},
   "source": [
    "# 2d. Selectarea altui algoritmului"
   ]
  },
  {
   "cell_type": "code",
   "execution_count": 59,
   "id": "1cde5b76",
   "metadata": {},
   "outputs": [],
   "source": [
    "#Importul estimatorului AdaBoostClassifier\n",
    "from sklearn.ensemble import AdaBoostClassifier"
   ]
  },
  {
   "cell_type": "code",
   "execution_count": 60,
   "id": "f700147a",
   "metadata": {},
   "outputs": [],
   "source": [
    "# Instantierea algoritmului AdaBoostClassifier\n",
    "clf = AdaBoostClassifier()"
   ]
  },
  {
   "cell_type": "markdown",
   "id": "ec271d80",
   "metadata": {},
   "source": [
    "# 3d. Implementarea algoritmului"
   ]
  },
  {
   "cell_type": "code",
   "execution_count": 64,
   "id": "a8a715a4",
   "metadata": {},
   "outputs": [
    {
     "data": {
      "text/plain": [
       "AdaBoostClassifier()"
      ]
     },
     "execution_count": 64,
     "metadata": {},
     "output_type": "execute_result"
    }
   ],
   "source": [
    "#Implementarea algoritmului AdaBoostClassifier pe datele de training\n",
    "clf.fit(X_train, y_train)"
   ]
  },
  {
   "cell_type": "markdown",
   "id": "bd117317",
   "metadata": {},
   "source": [
    "# 4d. Evaluarea modelului"
   ]
  },
  {
   "cell_type": "code",
   "execution_count": 63,
   "id": "603da67c",
   "metadata": {},
   "outputs": [
    {
     "data": {
      "text/plain": [
       "0.819672131147541"
      ]
     },
     "execution_count": 63,
     "metadata": {},
     "output_type": "execute_result"
    }
   ],
   "source": [
    "# Evaluarea modelului pe datele de test\n",
    "clf.score(X_test, y_test)"
   ]
  },
  {
   "cell_type": "markdown",
   "id": "a573517e",
   "metadata": {},
   "source": [
    "Modelul elaborat pe baza datelor de training implementand algoritmul AdaBoostClassifier are o precizie de 82% la evaluarea sa pe datele de test, cea mai mare pina acum de aceea ne vor opri aici."
   ]
  },
  {
   "cell_type": "markdown",
   "id": "8bce45cf",
   "metadata": {},
   "source": [
    "# 3*. Realizarea predictiei utilizand modelul elaborat"
   ]
  },
  {
   "cell_type": "markdown",
   "id": "6a4ad592",
   "metadata": {},
   "source": [
    "## a) Metoda `predict()`"
   ]
  },
  {
   "cell_type": "code",
   "execution_count": 69,
   "id": "e5ea0938",
   "metadata": {},
   "outputs": [
    {
     "data": {
      "text/plain": [
       "array([1, 1, 1, 1, 0, 1, 1, 1, 1, 1, 0, 0, 0, 1, 1, 1, 1, 0, 0, 1, 1, 1,\n",
       "       0, 1, 0, 1, 1, 0, 1, 0, 0, 1, 0, 1, 0, 1, 1, 1, 1, 0, 0, 1, 1, 0,\n",
       "       1, 1, 1, 0, 1, 0, 1, 0, 1, 1, 0, 0, 0, 1, 1, 1, 1], dtype=int64)"
      ]
     },
     "execution_count": 69,
     "metadata": {},
     "output_type": "execute_result"
    }
   ],
   "source": [
    "# Realizarea predictie asupra datelor de test (valorile prezise)\n",
    "y_preds=clf.predict(X_test)\n",
    "y_preds"
   ]
  },
  {
   "cell_type": "code",
   "execution_count": 67,
   "id": "046c6355",
   "metadata": {},
   "outputs": [
    {
     "data": {
      "text/plain": [
       "array([1, 1, 1, 1, 1, 1, 1, 1, 1, 0, 1, 1, 0, 1, 1, 0, 1, 0, 0, 1, 1, 0,\n",
       "       0, 1, 0, 1, 1, 0, 1, 1, 0, 1, 0, 1, 0, 1, 1, 1, 1, 1, 0, 1, 1, 0,\n",
       "       0, 1, 1, 0, 0, 0, 1, 0, 1, 1, 0, 0, 0, 1, 0, 1, 1], dtype=int64)"
      ]
     },
     "execution_count": 67,
     "metadata": {},
     "output_type": "execute_result"
    }
   ],
   "source": [
    "# Afisarea datelor label de test in acelasi format (valorile adevarate)\n",
    "np.array(y_test)"
   ]
  },
  {
   "cell_type": "code",
   "execution_count": 70,
   "id": "b30cdc53",
   "metadata": {},
   "outputs": [
    {
     "data": {
      "text/plain": [
       "0.819672131147541"
      ]
     },
     "execution_count": 70,
     "metadata": {},
     "output_type": "execute_result"
    }
   ],
   "source": [
    "# Compararea valorilor prezise cu cele adevarate\n",
    "np.mean(y_preds==y_test)"
   ]
  },
  {
   "cell_type": "markdown",
   "id": "bffab8c0",
   "metadata": {},
   "source": [
    "## b) Metoda `predict_proba()`"
   ]
  },
  {
   "cell_type": "code",
   "execution_count": 75,
   "id": "8edfc722",
   "metadata": {},
   "outputs": [
    {
     "data": {
      "text/plain": [
       "1    38\n",
       "0    23\n",
       "Name: target, dtype: int64"
      ]
     },
     "execution_count": 75,
     "metadata": {},
     "output_type": "execute_result"
    }
   ],
   "source": [
    "#Se verifica valorile posibile ale setul label de test y_test\n",
    "y_test.value_counts()"
   ]
  },
  {
   "cell_type": "markdown",
   "id": "20bc2b40",
   "metadata": {},
   "source": [
    "Setul label contine doar 2 valori posibile 0 si 1. Modelul elaborat pentru fiecare valoare de test va pezice una dintre aceste valori"
   ]
  },
  {
   "cell_type": "code",
   "execution_count": 76,
   "id": "e08d252d",
   "metadata": {},
   "outputs": [
    {
     "data": {
      "text/plain": [
       "array([[0.47762637, 0.52237363],\n",
       "       [0.47584965, 0.52415035],\n",
       "       [0.49527495, 0.50472505],\n",
       "       [0.48349326, 0.51650674],\n",
       "       [0.51178949, 0.48821051],\n",
       "       [0.47650329, 0.52349671],\n",
       "       [0.46470756, 0.53529244],\n",
       "       [0.48418237, 0.51581763],\n",
       "       [0.46573881, 0.53426119],\n",
       "       [0.48733339, 0.51266661],\n",
       "       [0.7098402 , 0.2901598 ],\n",
       "       [0.52181646, 0.47818354],\n",
       "       [0.70891484, 0.29108516],\n",
       "       [0.47336685, 0.52663315],\n",
       "       [0.47278089, 0.52721911],\n",
       "       [0.47891123, 0.52108877],\n",
       "       [0.48579132, 0.51420868],\n",
       "       [0.53826741, 0.46173259],\n",
       "       [0.56844122, 0.43155878],\n",
       "       [0.48900173, 0.51099827],\n",
       "       [0.46706562, 0.53293438],\n",
       "       [0.49606154, 0.50393846],\n",
       "       [0.55258449, 0.44741551],\n",
       "       [0.46117321, 0.53882679],\n",
       "       [0.72558116, 0.27441884],\n",
       "       [0.48862231, 0.51137769],\n",
       "       [0.46816917, 0.53183083],\n",
       "       [0.53418222, 0.46581778],\n",
       "       [0.47031278, 0.52968722],\n",
       "       [0.50022705, 0.49977295],\n",
       "       [0.50040275, 0.49959725],\n",
       "       [0.47408   , 0.52592   ],\n",
       "       [0.55166574, 0.44833426],\n",
       "       [0.46579167, 0.53420833],\n",
       "       [0.5128306 , 0.4871694 ],\n",
       "       [0.49450218, 0.50549782],\n",
       "       [0.49333661, 0.50666339],\n",
       "       [0.46975483, 0.53024517],\n",
       "       [0.48024585, 0.51975415],\n",
       "       [0.5002073 , 0.4997927 ],\n",
       "       [0.52518062, 0.47481938],\n",
       "       [0.4522477 , 0.5477523 ],\n",
       "       [0.49781309, 0.50218691],\n",
       "       [0.5130005 , 0.4869995 ],\n",
       "       [0.4971249 , 0.5028751 ],\n",
       "       [0.4836805 , 0.5163195 ],\n",
       "       [0.48942908, 0.51057092],\n",
       "       [0.53683689, 0.46316311],\n",
       "       [0.48238151, 0.51761849],\n",
       "       [0.50127732, 0.49872268],\n",
       "       [0.48626898, 0.51373102],\n",
       "       [0.53195395, 0.46804605],\n",
       "       [0.45974725, 0.54025275],\n",
       "       [0.46912723, 0.53087277],\n",
       "       [0.51414575, 0.48585425],\n",
       "       [0.71261486, 0.28738514],\n",
       "       [0.5058674 , 0.4941326 ],\n",
       "       [0.4723619 , 0.5276381 ],\n",
       "       [0.4904506 , 0.5095494 ],\n",
       "       [0.45974725, 0.54025275],\n",
       "       [0.48144777, 0.51855223]])"
      ]
     },
     "execution_count": 76,
     "metadata": {},
     "output_type": "execute_result"
    }
   ],
   "source": [
    "# Determinarea probabilitatii de prezicere pentru fiecarea valoare\n",
    "y_preds_prob=clf.predict_proba(X_test)\n",
    "y_preds_prob"
   ]
  },
  {
   "cell_type": "code",
   "execution_count": 73,
   "id": "c00e3647",
   "metadata": {},
   "outputs": [
    {
     "data": {
      "text/plain": [
       "(array([1, 1, 1, 1, 0], dtype=int64),\n",
       " array([[0.47762637, 0.52237363],\n",
       "        [0.47584965, 0.52415035],\n",
       "        [0.49527495, 0.50472505],\n",
       "        [0.48349326, 0.51650674],\n",
       "        [0.51178949, 0.48821051]]))"
      ]
     },
     "execution_count": 73,
     "metadata": {},
     "output_type": "execute_result"
    }
   ],
   "source": [
    "# Compararea rezultatelor functiilor predict si predict proba\n",
    "y_preds[:5], y_preds_prob[:5]"
   ]
  },
  {
   "cell_type": "markdown",
   "id": "63c1a739",
   "metadata": {},
   "source": [
    "Se observa ca probabilitatile de prezicere sunt foarte apropiate, iar valoarea prezisa este aceea care are probabilitatea peste 0.5. Functia predict_proba este forate utila atunci cand setul label are mai mult de 2 valri posibile.\n",
    "In continuare se va examina rezultatel predictie cu ambele metode pentru cazul implementarii algoritmului RandomForestClassifier"
   ]
  },
  {
   "cell_type": "code",
   "execution_count": 77,
   "id": "56196371",
   "metadata": {},
   "outputs": [
    {
     "data": {
      "text/plain": [
       "(array([1, 1, 1, 1, 0], dtype=int64),\n",
       " array([[0.08, 0.92],\n",
       "        [0.11, 0.89],\n",
       "        [0.4 , 0.6 ],\n",
       "        [0.33, 0.67],\n",
       "        [0.57, 0.43]]))"
      ]
     },
     "execution_count": 77,
     "metadata": {},
     "output_type": "execute_result"
    }
   ],
   "source": [
    "#instantierea si implementarea algoritmului RandomForestClassifier\n",
    "clf = RandomForestClassifier()\n",
    "clf.fit(X_train, y_train)\n",
    "\n",
    "# realizarea predictiei cu metoda predict()\n",
    "y_preds=clf.predict(X_test)\n",
    "\n",
    "# determinarea probabilitatii de predictie cu metoda predict_proba()\n",
    "y_preds_prob=clf.predict_proba(X_test)\n",
    "\n",
    "#Afisarea primelor rezultate\n",
    "y_preds[:5], y_preds_prob[:5] "
   ]
  },
  {
   "cell_type": "markdown",
   "id": "a2f0d757",
   "metadata": {},
   "source": [
    "# 4*. Evaluarea modelului"
   ]
  },
  {
   "cell_type": "markdown",
   "id": "3f284df0",
   "metadata": {},
   "source": [
    "## a) Evaluarea modelului cu metoda `score()` (evaluarea implicita)"
   ]
  },
  {
   "cell_type": "code",
   "execution_count": 78,
   "id": "ceeae121",
   "metadata": {},
   "outputs": [
    {
     "data": {
      "text/plain": [
       "1.0"
      ]
     },
     "execution_count": 78,
     "metadata": {},
     "output_type": "execute_result"
    }
   ],
   "source": [
    "# Evaluarea pe baza datelor de training\n",
    "clf.score(X_train, y_train)"
   ]
  },
  {
   "cell_type": "code",
   "execution_count": 79,
   "id": "a53b7087",
   "metadata": {},
   "outputs": [
    {
     "data": {
      "text/plain": [
       "0.8032786885245902"
      ]
     },
     "execution_count": 79,
     "metadata": {},
     "output_type": "execute_result"
    }
   ],
   "source": [
    "# Evaluarea pe baza datelor de test\n",
    "clf.score(X_test, y_test)"
   ]
  },
  {
   "cell_type": "markdown",
   "id": "0d6c7f27",
   "metadata": {},
   "source": [
    "## b) Evaluarea modelului utilizand `cross-validation` (cu parametru implicit - accuracy)"
   ]
  },
  {
   "cell_type": "code",
   "execution_count": 80,
   "id": "94a43c1d",
   "metadata": {},
   "outputs": [],
   "source": [
    "# importul modulului cross-validation\n",
    "from sklearn.model_selection import cross_val_score"
   ]
  },
  {
   "cell_type": "code",
   "execution_count": 82,
   "id": "0e8ccdaf",
   "metadata": {},
   "outputs": [
    {
     "data": {
      "text/plain": [
       "array([0.83606557, 0.90163934, 0.80327869, 0.8       , 0.78333333])"
      ]
     },
     "execution_count": 82,
     "metadata": {},
     "output_type": "execute_result"
    }
   ],
   "source": [
    "# realizarea evaluarii\n",
    "cross_val_score(clf, X, y, cv = 5)"
   ]
  },
  {
   "cell_type": "code",
   "execution_count": 83,
   "id": "832a169e",
   "metadata": {},
   "outputs": [
    {
     "data": {
      "text/plain": [
       "(0.8032786885245902, 0.8216393442622951)"
      ]
     },
     "execution_count": 83,
     "metadata": {},
     "output_type": "execute_result"
    }
   ],
   "source": [
    "# Valoarea medie a evaluarii cross-validation\n",
    "clf_cross_val_score = np.mean(cross_val_score(clf, X, y, cv = 5))\n",
    "\n",
    "# Evaluarea modelului prin metoda score\n",
    "clf_single_score = clf.score(X_test, y_test)\n",
    "\n",
    "# Afisarea comparativa\n",
    "clf_single_score, clf_cross_val_score \n"
   ]
  },
  {
   "cell_type": "code",
   "execution_count": 84,
   "id": "8160887a",
   "metadata": {},
   "outputs": [
    {
     "name": "stdout",
     "output_type": "stream",
     "text": [
      "Parametrul `accuracy` obtinut la evaluarea cross-validation a modelului are valoarea 82.16%\n"
     ]
    }
   ],
   "source": [
    "# Afisarea parametrului accuracy (parametru implicit)\n",
    "print(f'Parametrul `accuracy` obtinut la evaluarea cross-validation a modelului are valoarea {(clf_cross_val_score)*100:.2f}%')"
   ]
  },
  {
   "cell_type": "markdown",
   "id": "dca73f9c",
   "metadata": {},
   "source": [
    "## c) Evaluarea modelului utilizand parametrul `Area under the ROC (Receiver Operating Characteristic) (AUC)`"
   ]
  },
  {
   "cell_type": "markdown",
   "id": "580e0c5c",
   "metadata": {},
   "source": [
    "Curbele ROC reprezinta o comparatie a ratei pozitive adevarate (tpr - true positive rate) a modelului si a ratei pozitive falsa (ftr - false positive rate) a acestuia.\n",
    "* pozitiv adevarat = modelul prezice 1 cand adevarul e 1\n",
    "* pozitiv fals = modelul prezice 1 cand adevarul este 0\n",
    "* negativ adevarat = modelul prezice 0 cand adevarul e 0\n",
    "* negativ fals = modelul prezice 0 cand adevarul este 1"
   ]
  },
  {
   "cell_type": "code",
   "execution_count": 85,
   "id": "ee7b04ac",
   "metadata": {},
   "outputs": [],
   "source": [
    "# importul modulului roc_curse\n",
    "from sklearn.metrics import roc_curve"
   ]
  },
  {
   "cell_type": "code",
   "execution_count": 87,
   "id": "2a7674fd",
   "metadata": {},
   "outputs": [
    {
     "data": {
      "text/plain": [
       "array([[0.08, 0.92],\n",
       "       [0.11, 0.89],\n",
       "       [0.4 , 0.6 ],\n",
       "       [0.33, 0.67],\n",
       "       [0.57, 0.43],\n",
       "       [0.22, 0.78],\n",
       "       [0.11, 0.89],\n",
       "       [0.31, 0.69],\n",
       "       [0.12, 0.88],\n",
       "       [0.23, 0.77]])"
      ]
     },
     "execution_count": 87,
     "metadata": {},
     "output_type": "execute_result"
    }
   ],
   "source": [
    "# relizarea predictie cu probabilitate\n",
    "y_probs = clf.predict_proba(X_test)\n",
    "y_probs[:10]"
   ]
  },
  {
   "cell_type": "code",
   "execution_count": 88,
   "id": "7164ff23",
   "metadata": {},
   "outputs": [
    {
     "data": {
      "text/plain": [
       "array([0.92, 0.89, 0.6 , 0.67, 0.43, 0.78, 0.89, 0.69, 0.88, 0.77])"
      ]
     },
     "execution_count": 88,
     "metadata": {},
     "output_type": "execute_result"
    }
   ],
   "source": [
    "# selectarea doar a probabilitatilor aparitie 1 din y_probs\n",
    "y_probs_positive = y_probs[:,1]\n",
    "y_probs_positive[:10]"
   ]
  },
  {
   "cell_type": "code",
   "execution_count": 89,
   "id": "f8d3f28d",
   "metadata": {},
   "outputs": [],
   "source": [
    "# calcularea fpr, tpr, thresholds\n",
    "fpr, tpr, thresholds = roc_curve(y_test, y_probs_positive)"
   ]
  },
  {
   "cell_type": "code",
   "execution_count": 90,
   "id": "7faa9fdc",
   "metadata": {},
   "outputs": [
    {
     "data": {
      "text/plain": [
       "array([0.        , 0.        , 0.        , 0.        , 0.        ,\n",
       "       0.        , 0.04347826, 0.08695652, 0.08695652, 0.13043478,\n",
       "       0.17391304, 0.17391304, 0.2173913 , 0.2173913 , 0.26086957,\n",
       "       0.26086957, 0.26086957, 0.26086957, 0.30434783, 0.30434783,\n",
       "       0.34782609, 0.43478261, 0.43478261, 0.52173913, 0.56521739,\n",
       "       0.65217391, 0.73913043, 0.82608696, 0.86956522, 0.95652174,\n",
       "       1.        ])"
      ]
     },
     "execution_count": 90,
     "metadata": {},
     "output_type": "execute_result"
    }
   ],
   "source": [
    "# Afisarea fpr\n",
    "fpr"
   ]
  },
  {
   "cell_type": "code",
   "execution_count": 91,
   "id": "3d32f240",
   "metadata": {},
   "outputs": [
    {
     "data": {
      "text/plain": [
       "array([0.        , 0.05263158, 0.15789474, 0.23684211, 0.34210526,\n",
       "       0.42105263, 0.42105263, 0.47368421, 0.55263158, 0.57894737,\n",
       "       0.57894737, 0.60526316, 0.63157895, 0.81578947, 0.81578947,\n",
       "       0.84210526, 0.89473684, 0.92105263, 0.92105263, 0.94736842,\n",
       "       0.97368421, 0.97368421, 1.        , 1.        , 1.        ,\n",
       "       1.        , 1.        , 1.        , 1.        , 1.        ,\n",
       "       1.        ])"
      ]
     },
     "execution_count": 91,
     "metadata": {},
     "output_type": "execute_result"
    }
   ],
   "source": [
    "# Afisarea tpr\n",
    "tpr"
   ]
  },
  {
   "cell_type": "code",
   "execution_count": 125,
   "id": "c83afd9c",
   "metadata": {},
   "outputs": [
    {
     "data": {
      "text/plain": [
       "array([2.  , 1.  , 0.93, 0.92, 0.89, 0.86, 0.84, 0.82, 0.79, 0.78, 0.77,\n",
       "       0.76, 0.69, 0.53, 0.52, 0.51, 0.43, 0.42, 0.41, 0.37, 0.32, 0.26,\n",
       "       0.21, 0.2 , 0.15, 0.11, 0.08, 0.06, 0.03, 0.01, 0.  ])"
      ]
     },
     "execution_count": 125,
     "metadata": {},
     "output_type": "execute_result"
    }
   ],
   "source": [
    "# Afisarea thresholds\n",
    "thresholds"
   ]
  },
  {
   "cell_type": "code",
   "execution_count": 123,
   "id": "743e60a9",
   "metadata": {},
   "outputs": [],
   "source": [
    "# crearea functiei de afisare a curbei ROC\n",
    "\n",
    "def plot_roc_curve(fpr, tpr):\n",
    "    \"\"\"\n",
    "    Afiseaza graficul dependentei ratei pozitive false (fpr) de rata pozitiva adevarata (tpr)\n",
    "    \"\"\"\n",
    "    plt.plot(fpr, tpr, color=\"blue\")\n",
    "    plt.xlabel(\"Rata pozitiva falsa (fpr)\")\n",
    "    plt.ylabel(\"Rata pozitiva adevarata (tpr)\")\n",
    "    plt.title('Curba ROC')\n",
    "    plt.show()"
   ]
  },
  {
   "cell_type": "code",
   "execution_count": 124,
   "id": "dfe85162",
   "metadata": {},
   "outputs": [
    {
     "data": {
      "image/png": "[encoded data removed]",
      "text/plain": [
       "<Figure size 432x288 with 1 Axes>"
      ]
     },
     "metadata": {
      "needs_background": "light"
     },
     "output_type": "display_data"
    }
   ],
   "source": [
    "# apelara functiei de constructie a graficului curbei ROC\n",
    "plot_roc_curve(fpr, tpr)"
   ]
  },
  {
   "cell_type": "code",
   "execution_count": 117,
   "id": "2ede5f16",
   "metadata": {},
   "outputs": [
    {
     "data": {
      "text/plain": [
       "0.881578947368421"
      ]
     },
     "execution_count": 117,
     "metadata": {},
     "output_type": "execute_result"
    }
   ],
   "source": [
    "# Determinarea ariei de sub curba ROC (AUC)\n",
    "from sklearn.metrics import roc_auc_score\n",
    "\n",
    "roc_auc_score(y_test, y_probs_positive)"
   ]
  },
  {
   "cell_type": "code",
   "execution_count": null,
   "id": "3ce8a133",
   "metadata": {},
   "outputs": [],
   "source": []
  }
 ],
 "metadata": {
  "kernelspec": {
   "display_name": "Python 3",
   "language": "python",
   "name": "python3"
  },
  "language_info": {
   "codemirror_mode": {
    "name": "ipython",
    "version": 3
   },
   "file_extension": ".py",
   "mimetype": "text/x-python",
   "name": "python",
   "nbconvert_exporter": "python",
   "pygments_lexer": "ipython3",
   "version": "3.9.4"
  }
 },
 "nbformat": 4,
 "nbformat_minor": 5
}
